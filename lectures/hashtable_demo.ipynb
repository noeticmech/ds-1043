{
 "cells": [
  {
   "cell_type": "code",
   "execution_count": 1,
   "id": "8f65c996-719f-42ba-9c29-5a31fae7739b",
   "metadata": {
    "editable": true,
    "slideshow": {
     "slide_type": ""
    },
    "tags": []
   },
   "outputs": [],
   "source": [
    "import timeit\n",
    "import sys\n",
    "import random\n",
    "from string import ascii_lowercase, ascii_uppercase"
   ]
  },
  {
   "cell_type": "code",
   "execution_count": 2,
   "id": "f6ccf304-0ed9-4a03-9b25-eb25585d300e",
   "metadata": {},
   "outputs": [],
   "source": [
    "random.seed()"
   ]
  },
  {
   "cell_type": "code",
   "execution_count": 3,
   "id": "cec9d5a4-5931-424e-8764-4856b75c9914",
   "metadata": {},
   "outputs": [],
   "source": [
    "haystack_list = [''.join([random.choice(ascii_lowercase + ascii_uppercase) for _ in range(6)]) for _ in range(1000000)]\n",
    "haystack_set = set(haystack_list)"
   ]
  },
  {
   "cell_type": "code",
   "execution_count": 10,
   "id": "9793574d-f0ac-4774-81d5-88aafeaffdfc",
   "metadata": {},
   "outputs": [],
   "source": [
    "haystack_list.append('Needle')\n",
    "haystack_set.update({'Needle'})"
   ]
  },
  {
   "cell_type": "code",
   "execution_count": 11,
   "id": "554a76c3-a767-471d-98ea-a42644d37c27",
   "metadata": {},
   "outputs": [
    {
     "name": "stdout",
     "output_type": "stream",
     "text": [
      "\n",
      "| data structure | size    |\n",
      "| :------------- | ------: |\n",
      "| haystack_list  | 1000002 |\n",
      "| haystack_set   |  999996 |\n",
      "\n"
     ]
    }
   ],
   "source": [
    "print(f\"\"\"\n",
    "| data structure | size    |\n",
    "| :------------- | ------: |\n",
    "| haystack_list  | {len(haystack_list):>7n} |\n",
    "| haystack_set   | {len(haystack_set):>7n} |\n",
    "\"\"\")"
   ]
  },
  {
   "cell_type": "code",
   "execution_count": 12,
   "id": "646272c8-00d2-4a58-9cae-986b5273ae17",
   "metadata": {},
   "outputs": [
    {
     "data": {
      "text/plain": [
       "'haystack_set requires 4x the memory of haystack_list'"
      ]
     },
     "execution_count": 12,
     "metadata": {},
     "output_type": "execute_result"
    }
   ],
   "source": [
    "f'haystack_set requires {round(sys.getsizeof(haystack_set) / sys.getsizeof(haystack_list))}x the memory of haystack_list'"
   ]
  },
  {
   "cell_type": "code",
   "execution_count": 13,
   "id": "7a7e028c-c3b6-4080-9bd6-b4e80e626b24",
   "metadata": {},
   "outputs": [],
   "source": [
    "list_time = timeit.timeit(\"'Needle' in haystack_list\", globals=globals(), number=1000)\n",
    "set_time = timeit.timeit(\"'Needle' in haystack_set\", globals=globals(), number=1000)"
   ]
  },
  {
   "cell_type": "code",
   "execution_count": 14,
   "id": "43b244d9-a74c-4a32-844d-4b7fc346bd4e",
   "metadata": {},
   "outputs": [
    {
     "data": {
      "text/plain": [
       "'Searching a list takes 781,372x the time it takes to find an element in a set'"
      ]
     },
     "execution_count": 14,
     "metadata": {},
     "output_type": "execute_result"
    }
   ],
   "source": [
    "f'Searching a list takes {round(list_time / set_time):,}x the time it takes to find an element in a set'"
   ]
  },
  {
   "cell_type": "code",
   "execution_count": null,
   "id": "f444afc8-25bc-4329-a59f-caeb18a4eb34",
   "metadata": {},
   "outputs": [],
   "source": []
  }
 ],
 "metadata": {
  "kernelspec": {
   "display_name": "Python 3 (ipykernel)",
   "language": "python",
   "name": "python3"
  },
  "language_info": {
   "codemirror_mode": {
    "name": "ipython",
    "version": 3
   },
   "file_extension": ".py",
   "mimetype": "text/x-python",
   "name": "python",
   "nbconvert_exporter": "python",
   "pygments_lexer": "ipython3",
   "version": "3.12.7"
  }
 },
 "nbformat": 4,
 "nbformat_minor": 5
}
