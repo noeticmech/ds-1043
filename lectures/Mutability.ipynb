{
 "cells": [
  {
   "cell_type": "markdown",
   "id": "1709ddd3-a350-4798-a687-8e1a3ce80c28",
   "metadata": {},
   "source": [
    "# Immutability and Mutability in Practice"
   ]
  },
  {
   "cell_type": "markdown",
   "id": "df10e596-b181-4a91-a094-6788775fdb8e",
   "metadata": {},
   "source": [
    "## Changing the Changeless"
   ]
  },
  {
   "cell_type": "markdown",
   "id": "5ce74ac4-c86c-4af3-9fb7-d4ed518ea721",
   "metadata": {},
   "source": [
    "You can't \"delete\" parts of an immutable object like a string. You have to create a new object without the elements you wish to remove instead."
   ]
  },
  {
   "cell_type": "code",
   "execution_count": 5,
   "id": "3079b758-f385-4d3b-a825-bfd439c64195",
   "metadata": {},
   "outputs": [],
   "source": [
    "html = '<table><tr><th>City</th><th>State</th></tr><tr><td>Tulsa</td><td>Oklahoma</td></tr><tr><td>Las Cruces</td><td>New Mexico</td></tr></table>'"
   ]
  },
  {
   "cell_type": "code",
   "execution_count": 6,
   "id": "d43d3bde-671f-4fc2-a2ef-7d6e2ec94ccd",
   "metadata": {},
   "outputs": [],
   "source": [
    "def extract_first(tag: str, html: str) -> str:\n",
    "    \"\"\"Returns the contents of the first matching pair of tags in the html provided\"\"\"\n",
    "    open_tag = '<' + tag + '>'\n",
    "    close_tag = '</' + tag + '>'\n",
    "    start = html.index(open_tag) + len(open_tag)\n",
    "    end = html.index(close_tag)\n",
    "    return html[start:end]\n",
    "    "
   ]
  },
  {
   "cell_type": "code",
   "execution_count": 7,
   "id": "fe8b0bd9-5437-4b4d-84a8-9584ae50101d",
   "metadata": {},
   "outputs": [
    {
     "data": {
      "text/plain": [
       "'<tr><th>City</th><th>State</th></tr><tr><td>Tulsa</td><td>Oklahoma</td></tr><tr><td>Las Cruces</td><td>New Mexico</td></tr>'"
      ]
     },
     "execution_count": 7,
     "metadata": {},
     "output_type": "execute_result"
    }
   ],
   "source": [
    "extract_first('table', html)"
   ]
  },
  {
   "cell_type": "code",
   "execution_count": null,
   "id": "5ff4cf95-4c8d-456d-80ea-022c277833b2",
   "metadata": {},
   "outputs": [],
   "source": [
    "def extract_cell(html: str, header=False) -> str | float:\n",
    "    if header:\n",
    "        data = extract_first('th', html)\n",
    "    else:\n",
    "        data = extract_first('td', html)\n",
    "    if data.isnumeric():\n",
    "        return float(data)\n",
    "    return data\n",
    "\n",
    "def extract_row(html: str) -> str:\n",
    "    "
   ]
  },
  {
   "cell_type": "markdown",
   "id": "598bb774-eb8a-42f4-af9c-8b7c7de0368e",
   "metadata": {},
   "source": [
    "## Mutating the Mutable"
   ]
  },
  {
   "cell_type": "markdown",
   "id": "8b3c4562-61a9-43e1-88f9-196ad7ab540d",
   "metadata": {},
   "source": [
    "You can delete parts of a mutable object like a list. We do this using `some_list.pop(index)` or `some_list.remove(value)`, where `index` and `value` are variables that contain what they are named."
   ]
  },
  {
   "cell_type": "code",
   "execution_count": 5,
   "id": "133a83f0-38f3-4986-9807-f4724b0a7455",
   "metadata": {},
   "outputs": [],
   "source": [
    "def middle(seq: list) -> list:\n",
    "    return seq[1:-1]"
   ]
  },
  {
   "cell_type": "code",
   "execution_count": 8,
   "id": "51474e43-e19d-4d2a-8e6e-de0dfeb9f009",
   "metadata": {},
   "outputs": [
    {
     "name": "stdout",
     "output_type": "stream",
     "text": [
      "[0, 1, 2, 3, 4, 5, 6, 7, 8, 9]\n",
      "[1, 2, 3, 4, 5, 6, 7, 8]\n",
      "[0, 1, 2, 3, 4, 5, 6, 7, 8, 9]\n"
     ]
    }
   ],
   "source": [
    "a = [x for x in range(10)]\n",
    "print(a)\n",
    "print(middle(a))\n",
    "print(a)"
   ]
  },
  {
   "cell_type": "code",
   "execution_count": 1,
   "id": "0c39836c-8957-49a7-a0a6-83e4af2fcdbf",
   "metadata": {},
   "outputs": [],
   "source": [
    "def chop(seq: list) -> None:\n",
    "    seq.pop()\n",
    "    seq.pop(0)"
   ]
  },
  {
   "cell_type": "code",
   "execution_count": 9,
   "id": "2de1677c-1f3f-4557-88fd-6d5b70ca686d",
   "metadata": {},
   "outputs": [
    {
     "name": "stdout",
     "output_type": "stream",
     "text": [
      "[0, 1, 2, 3, 4, 5, 6, 7, 8, 9]\n",
      "[1, 2, 3, 4, 5, 6, 7, 8]\n"
     ]
    }
   ],
   "source": [
    "a = [x for x in range(10)]\n",
    "print(a)\n",
    "chop(a)\n",
    "print(a)"
   ]
  },
  {
   "cell_type": "markdown",
   "id": "f7288d08-1c0f-4510-bb66-60f30d395203",
   "metadata": {},
   "source": [
    "## Pass by Assignment"
   ]
  },
  {
   "cell_type": "markdown",
   "id": "44d87bf4-c477-449a-bc6f-12863a7f9abd",
   "metadata": {},
   "source": [
    "Passing arguments to a function creates a new variable/name that points to the argument. If this new variable is reassigned, it does not change the original. If this new variable points to a mutable type that is changed but not reassigned, those changes are reflected in the original."
   ]
  },
  {
   "cell_type": "code",
   "execution_count": null,
   "id": "5bdf82bb-96f8-4da9-ba82-4a06e23c27c5",
   "metadata": {},
   "outputs": [],
   "source": []
  },
  {
   "cell_type": "markdown",
   "id": "63a45f40-a2d2-45ed-8ba1-ac80614c21b5",
   "metadata": {
    "jp-MarkdownHeadingCollapsed": true
   },
   "source": [
    "## Copies"
   ]
  },
  {
   "cell_type": "markdown",
   "id": "6cb7467f-5d56-4895-b361-5456745dc1d7",
   "metadata": {},
   "source": [
    "Copying lists can be done \"shallowly\" or \"deeply\". A list acts like a set of variables that point to other objects in memory. A shallow copy simply copies those variables, which creates a situation like that when passing an object to a function—that is, changes to mutable elements will affect both the list and its copy. A deep copy makes a full second copy of the list and its elements, so that changes to one do not affect the other. This is often not necessary and easily takes more memory."
   ]
  },
  {
   "cell_type": "code",
   "execution_count": null,
   "id": "f357a1d8-b391-4d8b-b046-9bb58d8b9b6a",
   "metadata": {},
   "outputs": [],
   "source": []
  },
  {
   "cell_type": "markdown",
   "id": "cce3d6ba-5cd5-4c9b-a447-b127f12a8d37",
   "metadata": {
    "jp-MarkdownHeadingCollapsed": true
   },
   "source": [
    "## Running to Stand Still"
   ]
  },
  {
   "cell_type": "markdown",
   "id": "77cb89ca-c7a9-421a-b7ba-b56b881f7f40",
   "metadata": {},
   "source": [
    "The difference between using `sorted` and `reversed` and `list.sort` and `list.reverse`, namely, that the built-in functions create a shallow copy of the list with the elements reordered, but leaving the original alone. The list methods do not make a copy, but rather change the order of elements \"in place\"."
   ]
  },
  {
   "cell_type": "code",
   "execution_count": null,
   "id": "92bcabb5-1648-43a9-884d-48ef6ebc98ac",
   "metadata": {},
   "outputs": [],
   "source": []
  }
 ],
 "metadata": {
  "kernelspec": {
   "display_name": "Python 3 (ipykernel)",
   "language": "python",
   "name": "python3"
  },
  "language_info": {
   "codemirror_mode": {
    "name": "ipython",
    "version": 3
   },
   "file_extension": ".py",
   "mimetype": "text/x-python",
   "name": "python",
   "nbconvert_exporter": "python",
   "pygments_lexer": "ipython3",
   "version": "3.12.7"
  }
 },
 "nbformat": 4,
 "nbformat_minor": 5
}
