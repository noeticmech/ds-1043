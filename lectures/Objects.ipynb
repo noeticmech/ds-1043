{
 "cells": [
  {
   "cell_type": "markdown",
   "id": "a7486e05-992e-46f8-8d78-75b5bcc202a3",
   "metadata": {},
   "source": [
    "**Objects** are effectively \"bundles\" of data and code that work on those data. In Python, when we talk about \"type\", we are talking specifically about a type of object (this is not necessarily true in other languages).\n",
    "\n",
    "A **class** is the blueprint for an object. Once defined, the **class object** can be used to **instantiate** new **instances** of the class. \n",
    "\n",
    "Objects have **attributes** and **methods**, which are the data particular to that instance and the functions that work on that data. We will sometimes call these **members** of the class."
   ]
  },
  {
   "cell_type": "code",
   "execution_count": 1,
   "id": "ae5fa872-ca9d-4b7b-9d32-8d4ae511a734",
   "metadata": {},
   "outputs": [],
   "source": [
    "import collections\n",
    "\n",
    "Card = collections.namedtuple('Card', ['rank', 'suit'])"
   ]
  },
  {
   "cell_type": "code",
   "execution_count": 2,
   "id": "7354730c-7ed8-4e4e-8a25-5b7ab01fea61",
   "metadata": {},
   "outputs": [
    {
     "data": {
      "text/plain": [
       "type"
      ]
     },
     "execution_count": 2,
     "metadata": {},
     "output_type": "execute_result"
    }
   ],
   "source": [
    "type(Card)"
   ]
  },
  {
   "cell_type": "markdown",
   "id": "81888c1a-65a0-4765-879d-9aa06fd4e0a5",
   "metadata": {},
   "source": [
    "Namedtuples are a great way to create a simple class if all you need is a bundle of data with names to access specific pieces of it. These have some of the interface advantages of dictionaries, but don't have the same trade-offs."
   ]
  },
  {
   "cell_type": "code",
   "execution_count": 3,
   "id": "33fca0ab-7f4a-46c9-9026-cf473fa19abb",
   "metadata": {},
   "outputs": [
    {
     "data": {
      "text/plain": [
       "Card(rank='A', suit='spades')"
      ]
     },
     "execution_count": 3,
     "metadata": {},
     "output_type": "execute_result"
    }
   ],
   "source": [
    "lucky = Card('A', 'spades')\n",
    "lucky"
   ]
  },
  {
   "cell_type": "code",
   "execution_count": 6,
   "id": "bb052e87-1fa3-46b1-81b8-0d39515bfdab",
   "metadata": {},
   "outputs": [
    {
     "ename": "AttributeError",
     "evalue": "can't set attribute",
     "output_type": "error",
     "traceback": [
      "\u001b[0;31m---------------------------------------------------------------------------\u001b[0m",
      "\u001b[0;31mAttributeError\u001b[0m                            Traceback (most recent call last)",
      "Cell \u001b[0;32mIn[6], line 1\u001b[0m\n\u001b[0;32m----> 1\u001b[0m \u001b[43mlucky\u001b[49m\u001b[38;5;241;43m.\u001b[39;49m\u001b[43mrank\u001b[49m \u001b[38;5;241m=\u001b[39m \u001b[38;5;124m'\u001b[39m\u001b[38;5;124mK\u001b[39m\u001b[38;5;124m'\u001b[39m\n",
      "\u001b[0;31mAttributeError\u001b[0m: can't set attribute"
     ]
    }
   ],
   "source": [
    "lucky.rank = 'K'"
   ]
  },
  {
   "cell_type": "markdown",
   "id": "1ea4753a-8088-4720-866c-6df224ef1091",
   "metadata": {},
   "source": [
    "operator overloading: \n",
    "Changing the behavior of an operator like + so it works with a programmer-defined type. \n",
    "type-based dispatch: \n",
    "A programming pattern that checks the type of an operand and invokes different functions for different\n",
    "types. \n",
    "polymorphic: \n",
    "Pertaining to a function that can work with more than one type. \n",
    "information hiding: \n",
    "The principle that the interface provided by an object should not depend on its implementation, in\n",
    "particular the representation of its attributes. \n",
    "class attribute: \n",
    "An attribute associated with a class object. Class attributes are defined inside a class definition but\n",
    "outside any method. \n",
    "instance attribute: \n",
    "An attribute associated with an instance of a class. \n",
    "veneer: \n",
    "A method or function that provides a different interface to another function without doing much\n",
    "computation. "
   ]
  },
  {
   "cell_type": "code",
   "execution_count": 7,
   "id": "76127ee5-d84b-4ce5-997d-95f062b77706",
   "metadata": {},
   "outputs": [],
   "source": [
    "class FrenchDeck:\n",
    "    ranks = [str(n) for n in range(2, 11)] + list('JQKA')\n",
    "    suits = ('spades', 'diamonds', 'clubs', 'hearts')\n",
    "\n",
    "    def __init__(self):\n",
    "        self._cards = [Card(rank, suit)\n",
    "                           for suit in self.suits\n",
    "                           for rank in self.ranks]"
   ]
  },
  {
   "cell_type": "code",
   "execution_count": 8,
   "id": "a9b60453-ee3c-4247-b7ff-42dc31505681",
   "metadata": {},
   "outputs": [],
   "source": [
    "deck = FrenchDeck()"
   ]
  },
  {
   "cell_type": "code",
   "execution_count": null,
   "id": "5b954640-4fe8-4812-a973-e87b8c1a764a",
   "metadata": {},
   "outputs": [],
   "source": [
    "operator overloading: \n",
    "Changing the behavior of an operator like + so it works with a programmer-defined type. \n",
    "type-based dispatch: \n",
    "A programming pattern that checks the type of an operand and invokes different functions for different\n",
    "types. \n",
    "polymorphic: \n",
    "Pertaining to a function that can work with more than one type. \n",
    "information hiding: \n",
    "The principle that the interface provided by an object should not depend on its implementation, in\n",
    "particular the representation of its attributes. \n",
    "class attribute: \n",
    "An attribute associated with a class object. Class attributes are defined inside a class definition but\n",
    "outside any method. \n",
    "instance attribute: \n",
    "An attribute associated with an instance of a class. \n",
    "veneer: \n",
    "A method or function that provides a different interface to another function without doing much\n",
    "computation. "
   ]
  },
  {
   "cell_type": "code",
   "execution_count": 11,
   "id": "2e034f3d-0ace-487b-829f-4bda057186dd",
   "metadata": {},
   "outputs": [
    {
     "data": {
      "text/plain": [
       "52"
      ]
     },
     "execution_count": 11,
     "metadata": {},
     "output_type": "execute_result"
    }
   ],
   "source": [
    "len(deck)"
   ]
  },
  {
   "cell_type": "code",
   "execution_count": 10,
   "id": "befd7828-72e0-4b2e-b311-82b7beead75a",
   "metadata": {},
   "outputs": [],
   "source": [
    "FrenchDeck.__len__ = lambda self: len(self._cards)"
   ]
  },
  {
   "cell_type": "code",
   "execution_count": 12,
   "id": "7dfdbec8-4e26-40cb-8452-8bd14e57d276",
   "metadata": {},
   "outputs": [],
   "source": [
    "FrenchDeck.__getitem__ = lambda self, position: self._cards[position]"
   ]
  },
  {
   "cell_type": "code",
   "execution_count": 13,
   "id": "1fe975b3-b6a1-4391-b79b-5e20d8ff1b2b",
   "metadata": {},
   "outputs": [
    {
     "data": {
      "text/plain": [
       "[Card(rank='2', suit='spades'),\n",
       " Card(rank='3', suit='spades'),\n",
       " Card(rank='4', suit='spades'),\n",
       " Card(rank='5', suit='spades'),\n",
       " Card(rank='6', suit='spades')]"
      ]
     },
     "execution_count": 13,
     "metadata": {},
     "output_type": "execute_result"
    }
   ],
   "source": [
    "deck[:5]"
   ]
  },
  {
   "cell_type": "code",
   "execution_count": 14,
   "id": "e832ad0b-8b5a-4565-9284-8fafbfbf6da0",
   "metadata": {},
   "outputs": [],
   "source": [
    "suit_values = dict(spades=3, hearts=2, diamonds=1, clubs=0)\n",
    "\n",
    "def spades_high(card):\n",
    "    rank_value = FrenchDeck.ranks.index(card.rank)\n",
    "    return rank_value * len(suit_values) + suit_values[card.suit]"
   ]
  },
  {
   "cell_type": "code",
   "execution_count": 15,
   "id": "4a18dc24-63d1-4b7b-a2f8-abd7437a2bb2",
   "metadata": {},
   "outputs": [
    {
     "data": {
      "text/plain": [
       "[Card(rank='2', suit='clubs'),\n",
       " Card(rank='2', suit='diamonds'),\n",
       " Card(rank='2', suit='hearts'),\n",
       " Card(rank='2', suit='spades'),\n",
       " Card(rank='3', suit='clubs'),\n",
       " Card(rank='3', suit='diamonds'),\n",
       " Card(rank='3', suit='hearts'),\n",
       " Card(rank='3', suit='spades'),\n",
       " Card(rank='4', suit='clubs'),\n",
       " Card(rank='4', suit='diamonds'),\n",
       " Card(rank='4', suit='hearts'),\n",
       " Card(rank='4', suit='spades'),\n",
       " Card(rank='5', suit='clubs'),\n",
       " Card(rank='5', suit='diamonds'),\n",
       " Card(rank='5', suit='hearts'),\n",
       " Card(rank='5', suit='spades'),\n",
       " Card(rank='6', suit='clubs'),\n",
       " Card(rank='6', suit='diamonds'),\n",
       " Card(rank='6', suit='hearts'),\n",
       " Card(rank='6', suit='spades'),\n",
       " Card(rank='7', suit='clubs'),\n",
       " Card(rank='7', suit='diamonds'),\n",
       " Card(rank='7', suit='hearts'),\n",
       " Card(rank='7', suit='spades'),\n",
       " Card(rank='8', suit='clubs'),\n",
       " Card(rank='8', suit='diamonds'),\n",
       " Card(rank='8', suit='hearts'),\n",
       " Card(rank='8', suit='spades'),\n",
       " Card(rank='9', suit='clubs'),\n",
       " Card(rank='9', suit='diamonds'),\n",
       " Card(rank='9', suit='hearts'),\n",
       " Card(rank='9', suit='spades'),\n",
       " Card(rank='10', suit='clubs'),\n",
       " Card(rank='10', suit='diamonds'),\n",
       " Card(rank='10', suit='hearts'),\n",
       " Card(rank='10', suit='spades'),\n",
       " Card(rank='J', suit='clubs'),\n",
       " Card(rank='J', suit='diamonds'),\n",
       " Card(rank='J', suit='hearts'),\n",
       " Card(rank='J', suit='spades'),\n",
       " Card(rank='Q', suit='clubs'),\n",
       " Card(rank='Q', suit='diamonds'),\n",
       " Card(rank='Q', suit='hearts'),\n",
       " Card(rank='Q', suit='spades'),\n",
       " Card(rank='K', suit='clubs'),\n",
       " Card(rank='K', suit='diamonds'),\n",
       " Card(rank='K', suit='hearts'),\n",
       " Card(rank='K', suit='spades'),\n",
       " Card(rank='A', suit='clubs'),\n",
       " Card(rank='A', suit='diamonds'),\n",
       " Card(rank='A', suit='hearts'),\n",
       " Card(rank='A', suit='spades')]"
      ]
     },
     "execution_count": 15,
     "metadata": {},
     "output_type": "execute_result"
    }
   ],
   "source": [
    "sorted(deck,key=spades_high)"
   ]
  },
  {
   "cell_type": "code",
   "execution_count": null,
   "id": "c75daa64-4ca5-420c-92fe-9ae8240fe4af",
   "metadata": {},
   "outputs": [],
   "source": [
    "deck = FrenchDeck()"
   ]
  },
  {
   "cell_type": "code",
   "execution_count": 16,
   "id": "3f6e84f8-ac5e-4f89-93c0-ce978676e410",
   "metadata": {},
   "outputs": [],
   "source": [
    "from random import shuffle\n",
    "\n",
    "def set_card(deck, position, card):\n",
    "    deck._cards[position] = card\n",
    "\n",
    "FrenchDeck.set_card = set_card"
   ]
  },
  {
   "cell_type": "code",
   "execution_count": 17,
   "id": "e1a85958-c964-4c85-a10d-1a98ec4e145f",
   "metadata": {},
   "outputs": [
    {
     "data": {
      "text/plain": [
       "Card(rank='2', suit='spades')"
      ]
     },
     "execution_count": 17,
     "metadata": {},
     "output_type": "execute_result"
    }
   ],
   "source": [
    "deck[0]"
   ]
  },
  {
   "cell_type": "code",
   "execution_count": 18,
   "id": "23b5a327-d458-4421-b25f-b47e7c028eb4",
   "metadata": {},
   "outputs": [],
   "source": [
    "deck.set_card(0, lucky)"
   ]
  },
  {
   "cell_type": "code",
   "execution_count": 19,
   "id": "1f222d27-12fd-4a39-b04e-73197effcf24",
   "metadata": {},
   "outputs": [
    {
     "data": {
      "text/plain": [
       "Card(rank='A', suit='spades')"
      ]
     },
     "execution_count": 19,
     "metadata": {},
     "output_type": "execute_result"
    }
   ],
   "source": [
    "deck[0]"
   ]
  },
  {
   "cell_type": "code",
   "execution_count": null,
   "id": "d5705598-2e40-4878-baa5-5a8a072fba52",
   "metadata": {},
   "outputs": [],
   "source": []
  }
 ],
 "metadata": {
  "kernelspec": {
   "display_name": "Python 3 (ipykernel)",
   "language": "python",
   "name": "python3"
  },
  "language_info": {
   "codemirror_mode": {
    "name": "ipython",
    "version": 3
   },
   "file_extension": ".py",
   "mimetype": "text/x-python",
   "name": "python",
   "nbconvert_exporter": "python",
   "pygments_lexer": "ipython3",
   "version": "3.12.7"
  }
 },
 "nbformat": 4,
 "nbformat_minor": 5
}
