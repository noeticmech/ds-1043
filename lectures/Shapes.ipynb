{
 "cells": [
  {
   "cell_type": "code",
   "execution_count": 1,
   "id": "ac3e3284-f8a7-4fe3-a39a-931167f056a2",
   "metadata": {},
   "outputs": [],
   "source": [
    "def print_matrix(matrix):\n",
    "    if len(matrix) < 2:\n",
    "        print(matrix)\n",
    "        return\n",
    "    print('[' + repr(matrix[0]))\n",
    "    for row in matrix[1:-1]:\n",
    "        print(' ' + repr(row))\n",
    "    print(' ' + repr(matrix[-1]) + ']')\n",
    "    return"
   ]
  },
  {
   "cell_type": "code",
   "execution_count": 2,
   "id": "375e98e2-b4a2-4a93-ba4a-0394c304249f",
   "metadata": {},
   "outputs": [],
   "source": [
    "n = 10\n",
    "m = 10"
   ]
  },
  {
   "cell_type": "code",
   "execution_count": 9,
   "id": "4d4cb7c6-f940-47a0-947c-175670264bcf",
   "metadata": {},
   "outputs": [
    {
     "name": "stdout",
     "output_type": "stream",
     "text": [
      "*\n",
      "**\n",
      "***\n",
      "****\n",
      "*****\n",
      "******\n",
      "*******\n",
      "********\n",
      "*********\n",
      "**********\n"
     ]
    }
   ],
   "source": [
    "for y in range(n, 0, -1):\n",
    "    row = ''\n",
    "    for x in range(n-y + 1):\n",
    "        row += '*'\n",
    "    print(row)"
   ]
  },
  {
   "cell_type": "code",
   "execution_count": 8,
   "id": "e8f5660b-4831-4e8a-9e0f-dc0025cb84d8",
   "metadata": {},
   "outputs": [
    {
     "name": "stdout",
     "output_type": "stream",
     "text": [
      "1 ['hashtable']\n",
      "2 ['hashtabl', 'ashtable']\n",
      "3 ['hashtab', 'ashtabl', 'shtable']\n",
      "4 ['hashta', 'ashtab', 'shtabl', 'htable']\n",
      "5 ['hasht', 'ashta', 'shtab', 'htabl', 'table']\n",
      "6 ['hash', 'asht', 'shta', 'htab', 'tabl', 'able']\n",
      "7 ['has', 'ash', 'sht', 'hta', 'tab', 'abl', 'ble']\n",
      "8 ['ha', 'as', 'sh', 'ht', 'ta', 'ab', 'bl', 'le']\n",
      "9 ['h', 'a', 's', 'h', 't', 'a', 'b', 'l', 'e']\n"
     ]
    }
   ],
   "source": [
    "word = 'hashtable'\n",
    "for y in range(len(word), 0, -1):\n",
    "    row = []\n",
    "    for x in range(len(word) - y + 1):\n",
    "        row.append(word[x:x+y])\n",
    "    print(len(row), row)"
   ]
  },
  {
   "cell_type": "code",
   "execution_count": 12,
   "id": "dc161ea0-e45d-41b4-a0a1-a7888a3c5c93",
   "metadata": {},
   "outputs": [
    {
     "name": "stdout",
     "output_type": "stream",
     "text": [
      "[[1, 1, 1, 1, 1, 1, 1, 1, 1, 1]\n",
      " [1, 1, 1, 1, 1, 1, 1, 1, 1, 1]\n",
      " [1, 1, 1, 1, 1, 1, 1, 1, 1, 1]\n",
      " [1, 1, 1, 1, 1, 1, 1, 1, 1, 1]\n",
      " [1, 1, 1, 1, 1, 1, 1, 1, 1, 1]\n",
      " [1, 1, 1, 1, 1, 1, 1, 1, 1, 1]\n",
      " [1, 1, 1, 1, 1, 1, 1, 1, 1, 1]\n",
      " [1, 1, 1, 1, 1, 1, 1, 1, 1, 1]\n",
      " [1, 1, 1, 1, 1, 1, 1, 1, 1, 1]\n",
      " [1, 1, 1, 1, 1, 1, 1, 1, 1, 1]]\n"
     ]
    }
   ],
   "source": [
    "matrix = [[0 for _ in range(m)] for _ in range(n)]\n",
    "for y in range(n):\n",
    "    for x in range(m):\n",
    "        matrix[y][x] = 1\n",
    "print_matrix(matrix)"
   ]
  },
  {
   "cell_type": "code",
   "execution_count": null,
   "id": "7259399a-017b-418a-8cf7-771c55ca05d9",
   "metadata": {
    "jupyter": {
     "source_hidden": true
    }
   },
   "outputs": [],
   "source": [
    "for i in range(16):\n",
    "    print(f'{i:>2d}\\t{i:04b}\\t{i:02x}')"
   ]
  },
  {
   "cell_type": "code",
   "execution_count": 13,
   "id": "ea24fd58-0171-4b33-8781-f1875fef99f4",
   "metadata": {},
   "outputs": [],
   "source": [
    "some_html = '<table><tr><th>Month</th><th>Savings</th></tr><tr><td>January</td><td>$100</td></tr></table>'"
   ]
  },
  {
   "cell_type": "code",
   "execution_count": null,
   "id": "15b54766-f5b7-4e47-8d34-1af8fc516e7f",
   "metadata": {},
   "outputs": [],
   "source": []
  }
 ],
 "metadata": {
  "kernelspec": {
   "display_name": "Python 3 (ipykernel)",
   "language": "python",
   "name": "python3"
  },
  "language_info": {
   "codemirror_mode": {
    "name": "ipython",
    "version": 3
   },
   "file_extension": ".py",
   "mimetype": "text/x-python",
   "name": "python",
   "nbconvert_exporter": "python",
   "pygments_lexer": "ipython3",
   "version": "3.12.7"
  }
 },
 "nbformat": 4,
 "nbformat_minor": 5
}
