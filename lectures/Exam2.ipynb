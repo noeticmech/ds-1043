{
 "cells": [
  {
   "cell_type": "code",
   "execution_count": 1,
   "id": "c34dafdf-ffb7-4c6b-bbae-b9e9c0e19413",
   "metadata": {},
   "outputs": [],
   "source": [
    "months = [\"January\", \"February\", \"March\", \"April\", \"May\", \"June\", \"July\", \"August\", \"September\", \"October\", \"November\", \"December\"]\n",
    "precipitation = [1.66, 1.85, 3.29, 3.79, 5.87, 4.72, 3.36, 2.90, 4.26, 3.93, 2.81, 2.49]"
   ]
  },
  {
   "cell_type": "markdown",
   "id": "486f395e-fa42-4017-be16-1f50d1716603",
   "metadata": {},
   "source": [
    "1.  `zip(months, precipitation)`\n",
    "    zip-object or generator that yields tuples of elements of months and precipitation with the same index\n",
    "3.  `enumerate(months)`\n",
    "    generator that yields tuples of index and month values\n",
    "5.  `{month : amount for month, amount in zip(months, precipitation)}`\n",
    "    dictionary of month : precip amount pairs\n",
    "7.  `months + precipitation`\n",
    "    list containing the elements of months followed by the elements of precip.\n",
    "9.  `months.append(precipitation)`\n",
    "     list of elements of months followed by an element that is precip. (full list)\n",
    "11.  `[str(amount) for amount in precipitation]`\n",
    "     list of string equivalents of the values in precip.\n",
    "13.  `filter(str, precipitation)`\n",
    "     \n",
    "15.  `months[12]`\n",
    "     IndexError\n",
    "17.  `precipitation[10:]`\n",
    "     list of the last 2 elements of precip.\n",
    "19. `precipitation.pop()`\n",
    "    2.49 (integer), and removes it from precip. "
   ]
  },
  {
   "cell_type": "code",
   "execution_count": 2,
   "id": "1adbd8c5-727a-4170-a8f9-49b79b6d5b16",
   "metadata": {},
   "outputs": [],
   "source": [
    "def fib():\n",
    "    first = 1\n",
    "    second = first\n",
    "    yield first\n",
    "    yield second\n",
    "    while True:\n",
    "        temp = second\n",
    "        second = first + second\n",
    "        first = temp\n",
    "        yield second"
   ]
  },
  {
   "cell_type": "code",
   "execution_count": 3,
   "id": "6fd2b8f6-d605-46e0-a343-9c156a275d2c",
   "metadata": {},
   "outputs": [
    {
     "data": {
      "text/plain": [
       "generator"
      ]
     },
     "execution_count": 3,
     "metadata": {},
     "output_type": "execute_result"
    }
   ],
   "source": [
    "type(fib())"
   ]
  },
  {
   "cell_type": "code",
   "execution_count": 7,
   "id": "3179f706-c39a-4fe3-b467-fc9bd679a44d",
   "metadata": {},
   "outputs": [
    {
     "data": {
      "text/plain": [
       "1"
      ]
     },
     "execution_count": 7,
     "metadata": {},
     "output_type": "execute_result"
    }
   ],
   "source": [
    "a = fib()\n",
    "next(a)"
   ]
  },
  {
   "cell_type": "code",
   "execution_count": 8,
   "id": "645d8292-49c2-429f-96a5-f99167a5dbfc",
   "metadata": {},
   "outputs": [
    {
     "name": "stdout",
     "output_type": "stream",
     "text": [
      "1\n",
      "2\n",
      "3\n",
      "5\n",
      "8\n",
      "13\n",
      "21\n",
      "34\n",
      "55\n",
      "89\n"
     ]
    }
   ],
   "source": [
    "for _ in range(10):\n",
    "    print(next(a))"
   ]
  },
  {
   "cell_type": "code",
   "execution_count": 10,
   "id": "102c6010-1383-4e49-b848-674010832b11",
   "metadata": {},
   "outputs": [
    {
     "name": "stdout",
     "output_type": "stream",
     "text": [
      "1.66\n",
      "1.85\n",
      "3.29\n",
      "3.79\n",
      "5.87\n",
      "4.72\n",
      "3.36\n",
      "2.9\n",
      "4.26\n",
      "3.93\n",
      "2.81\n",
      "2.49\n"
     ]
    }
   ],
   "source": [
    "for item in filter(str, precipitation):\n",
    "    print(item)"
   ]
  },
  {
   "cell_type": "code",
   "execution_count": 16,
   "id": "b456ee5d-a478-4073-adb3-5df23232ae39",
   "metadata": {},
   "outputs": [
    {
     "name": "stdout",
     "output_type": "stream",
     "text": [
      "['a', 'b']\n"
     ]
    }
   ],
   "source": [
    "l = ['a', 'b', 'c']\n",
    "m = []\n",
    "m.append(l.pop())\n",
    "print(l)"
   ]
  },
  {
   "cell_type": "code",
   "execution_count": 13,
   "id": "31f2ac13-daeb-48bc-8e3d-bdfbf2dafeda",
   "metadata": {},
   "outputs": [],
   "source": [
    "l = [[x for x in range(10)] for x in range(10)] "
   ]
  },
  {
   "cell_type": "code",
   "execution_count": 14,
   "id": "d3472915-9332-4c07-8bd0-1ca252e53d2d",
   "metadata": {},
   "outputs": [
    {
     "name": "stdout",
     "output_type": "stream",
     "text": [
      "0\n",
      "1\n",
      "2\n",
      "3\n",
      "4\n",
      "5\n",
      "6\n",
      "7\n",
      "8\n",
      "9\n"
     ]
    }
   ],
   "source": [
    "for x in l.pop():\n",
    "    print(x)"
   ]
  },
  {
   "cell_type": "code",
   "execution_count": 15,
   "id": "946fbcc6-88d6-45c5-b7c2-a0d1a318ca2c",
   "metadata": {},
   "outputs": [
    {
     "ename": "TypeError",
     "evalue": "'int' object is not iterable",
     "output_type": "error",
     "traceback": [
      "\u001b[0;31m---------------------------------------------------------------------------\u001b[0m",
      "\u001b[0;31mTypeError\u001b[0m                                 Traceback (most recent call last)",
      "Cell \u001b[0;32mIn[15], line 1\u001b[0m\n\u001b[0;32m----> 1\u001b[0m \u001b[38;5;28;43;01mfor\u001b[39;49;00m\u001b[43m \u001b[49m\u001b[43mx\u001b[49m\u001b[43m \u001b[49m\u001b[38;5;129;43;01min\u001b[39;49;00m\u001b[43m \u001b[49m\u001b[38;5;241;43m1\u001b[39;49m\u001b[43m:\u001b[49m\n\u001b[1;32m      2\u001b[0m \u001b[43m    \u001b[49m\u001b[38;5;28;43mprint\u001b[39;49m\u001b[43m(\u001b[49m\u001b[43mx\u001b[49m\u001b[43m)\u001b[49m\n",
      "\u001b[0;31mTypeError\u001b[0m: 'int' object is not iterable"
     ]
    }
   ],
   "source": [
    "for x in 1:\n",
    "    print(x)"
   ]
  },
  {
   "cell_type": "code",
   "execution_count": 1,
   "id": "f3559521-c89e-4397-934d-777a9c845198",
   "metadata": {},
   "outputs": [],
   "source": [
    "# Assume filename exists as a variable containing the name of our Markdown file.\n",
    "filename = 'report.md'\n",
    "with open(filename, 'r') as mdfile:\n",
    "    lines = [line.strip() for line in mdfile.readlines()]\n",
    "\n",
    "inTable = False\n",
    "tables = []\n",
    "this_table = []\n",
    "for line in lines:\n",
    "    if line.startswith('|') and line.endswith('|'):\n",
    "        if inTable:\n",
    "            this_table.append(line)\n",
    "        else:\n",
    "            this_table = [line]\n",
    "            inTable = True\n",
    "    else:\n",
    "        if inTable:\n",
    "            tables.append(this_table)\n",
    "            this_table = []\n",
    "if inTable:\n",
    "    tables.append(this_table)\n"
   ]
  },
  {
   "cell_type": "code",
   "execution_count": 6,
   "id": "e0dba60a-da25-4993-9c52-61746ba9683f",
   "metadata": {},
   "outputs": [
    {
     "name": "stdout",
     "output_type": "stream",
     "text": [
      "['|Name|temp-jan|temp-apr|temp-jul|temp-oct|Temperature Variation|', '|---|---|---|---|---|---|', '|Yukon-koyukuk Census Area, AK|-8.9|26.5|59.4|21.4|586.785|', '|Southeast Fairbanks Census Area, AK|-8.5|30.4|59.2|22.4|581.186875|', '|Kittson County, MN|0.8|39.7|68.4|40.6|579.0218750000001|', '|Fairbanks North Star Borough, AK|-4.1|32.0|60.8|23.9|534.7425|', '|North Slope Borough, AK|-14.5|3.0|47.5|16.3|514.341875|']\n",
      "['|Name|temp-jan|temp-apr|temp-jul|temp-oct|Temperature Variation|', '|---|---|---|---|---|---|', '|Hawaii County, HI|65.6|66.8|70.5|70.3|4.595000000000007|', '|Maui County, HI|67.9|69.2|73.6|73.2|6.111874999999984|', '|Honolulu County, HI|71.3|73.2|77.8|77.2|7.386875000000002|', '|Kauai County, HI|69.3|71.1|76.1|75.2|7.931875000000005|', '|Kalawao County, HI|70.6|72.6|77.7|77.1|8.955000000000013|']\n",
      "['|Name|2010|2019|Percentage Growth|', '|---|---|---|---|', '|Mckenzie County, ND|6412|15024|134.31066749844044|', '|Loving County, TX|84|169|101.19047619047619|', '|Williams County, ND|22589|37589|66.40400194785072|', '|Hays County, TX|158214|230191|45.493445586357716|', '|Wasatch County, UT|23644|34091|44.184571138555235|']\n",
      "['|Name|2010|2019|Percentage Growth|', '|---|---|---|---|', '|Concho County, TX|4102|2726|-33.54461238420283|', '|Alexander County, IL|8206|5761|-29.795271752376312|', '|Terrell County, TX|1011|776|-23.24431256181998|', '|Schleicher County, TX|3503|2793|-20.268341421638596|', '|Mcdowell County, WV|22097|17624|-20.24256686428022|']\n",
      "['|Name|suicides|homicides|vehicle|Deaths per Capita|', '|---|---|---|---|---|', '|Los Angeles County, CA|774.2857142857143|782.5238095238095|874.1428571428571|24.309523809523807|', '|Cook County, IL|412.6190476190476|656.6190476190476|425.9047619047619|14.951428571428572|', '|Maricopa County, AZ|562.4285714285714|274.04761904761904|507.1904761904762|13.436666666666667|', '|Harris County, TX|405.3333333333333|375.4761904761905|500.6666666666667|12.814761904761903|', '|Miami-dade County, FL|232.76190476190476|215.95238095238096|335.3333333333333|7.84047619047619|']\n",
      "['|Name|suicides|homicides|vehicle|Deaths per Capita|', '|---|---|---|---|---|', '|Keya Paha County, NE|None|None|None|0.0|', '|Banner County, NE|None|None|None|0.0|', '|Garfield County, NE|None|None|None|0.0|', '|Mcpherson County, NE|None|None|None|0.0|', '|Rock County, NE|None|None|None|0.0|']\n",
      "['|Name|bachelors+|College Graduates per Capita|', '|---|---|---|', '|Falls Church City, VA|77.6|0.7759999999999999|', '|Arlington County, VA|75.3|0.753|', '|Los Alamos County, NM|67.4|0.674|', '|Alexandria City, VA|63.1|0.631|', '|Howard County, MD|62.6|0.626|']\n",
      "['|Name|bachelors+|College Graduates per Capita|', '|---|---|---|', '|Loving County, TX|0.0|0.0|', '|Kenedy County, TX|1.0|0.01|', '|Issaquena County, MS|3.2|0.032|', '|Kusilvak Census Area, AK|3.9|0.039|', '|Mcdowell County, WV|5.4|0.054000000000000006|']\n",
      "['|Name|male|female|Percentage Male|Percentage Female|', '|---|---|---|---|---|', '|Pulaski County, GA|4788|6349|42.99182903834067|57.00817096165933|', '|Livingston County, MO|6643|8584|43.62645301109871|56.37354698890129|', '|Summers County, WV|5718|6855|45.47840610832736|54.52159389167264|', '|Macon County, AL|8218|9850|45.483728138144784|54.516271861855216|', '|Franklin City, VA|3629|4338|45.550395380946405|54.449604619053595|']\n",
      "['|Name|male|female|Percentage Male|Percentage Female|', '|---|---|---|---|---|', '|Crowley County, CO|4454|1607|73.4862233954793|26.513776604520707|', '|Forest County, PA|4993|2254|68.89747481716572|31.102525182834277|', '|Stewart County, GA|4520|2101|68.26763328802295|31.732366711977043|', '|Aleutians East Borough, AK|2253|1084|67.51573269403656|32.484267305963435|', '|Aleutians West Census Area, AK|3716|1918|65.95669151579695|34.04330848420305|']\n",
      "['|Name|65-69|70-74|75-79|80-84|85+|Percentage over 65|', '|---|---|---|---|---|---|---|', '|Sumter County, FL|0.14296933997885516|0.1804485727231536|0.14012988974475155|0.07338770578462468|0.04480441020993808|58.17399184413231|', '|Kalawao County, HI|0.1744186046511628|0.011627906976744186|0.023255813953488372|0.09302325581395349|0.1511627906976744|45.348837209302324|', '|Catron County, NM|0.13325772611284378|0.12702013042245536|0.08562517720442302|0.05330309044513751|0.03345619506662886|43.26623192514885|', '|Charlotte County, FL|0.10702980255147954|0.1079879307606797|0.08409824784288815|0.05525382457254777|0.05361283150706686|40.7982637234662|', '|La Paz County, AZ|0.07651127534584044|0.10342050407428463|0.09645631987871897|0.06921546333143831|0.05197081675194239|39.75743793822247|']\n",
      "['|Name|0-4|5-9|10-14|15-19|Percentage under 20|', '|---|---|---|---|---|---|', '|Todd County, SD|0.11899380957060038|0.12095902525302152|0.11555468212636337|0.09334774491500442|44.88552618649897|', '|Kusilvak Census Area, AK|0.13170555689198943|0.12533076738032234|0.09898965600192447|0.08972816935289872|44.575414962713495|', '|Buffalo County, SD|0.1126401630988787|0.11314984709480122|0.09480122324159021|0.09683995922528033|41.74311926605505|', '|Dewey County, SD|0.12457569585879158|0.11065852002715547|0.09334691106585201|0.0814663951120163|41.00475220638153|', '|Oglala Lakota County, SD|0.09980955068067998|0.10904986950694788|0.10538195669041404|0.08626648797347816|40.05078648515201|']\n",
      "['|Name|0-4|5-9|10-14|15-19|20-24|25-29|30-34|35-39|40-44|45-49|50-54|55-59|60-64|65-69|70-74|75-79|80-84|85+|Age Variance|', '|---|---|---|---|---|---|---|---|---|---|---|---|---|---|---|---|---|---|---|---|', '|Palm Beach County, FL|0.050978440241319645|0.05128710489921631|0.05434168242281713|0.054524743280530745|0.05276094523540691|0.05966514561355452|0.05925559705231933|0.05805033505481804|0.05693393106489307|0.06151646545561442|0.06355886341922941|0.0689711846175431|0.06460177582394089|0.05948408907180128|0.058507987199102066|0.04782097449841993|0.0348523821295189|0.042888352919954305|6.23705788005918e-05|', '|Kinney County, TX|0.04908644668666485|0.04908644668666485|0.05835833106081265|0.057540223616034905|0.06681210799018271|0.061630760839923644|0.060812653395145896|0.06926643032451596|0.05808562857922007|0.05699481865284974|0.05508590128170166|0.046632124352331605|0.06244886828470139|0.06490319061903463|0.06272157076629398|0.046632124352331605|0.041178074720479955|0.0327242977911099|8.649506262547714e-05|', '|Hamilton County, TX|0.05826734428554545|0.060512941732655715|0.06110388842926368|0.056967261553007915|0.04845762912185321|0.05306701335539534|0.05413071740928968|0.05578536815979199|0.048221250443210024|0.05318520269471694|0.05141236260489304|0.07457747311192531|0.07067722491431273|0.06724973407398653|0.062049403143836425|0.04916676515778277|0.03486585509986999|0.04030256470866328|9.282753309666977e-05|', '|Lincoln County, MN|0.062245078914701185|0.06348643376485193|0.06933853520127682|0.05727965951409825|0.04202872849796063|0.04788082993438553|0.05337825855648164|0.05213690370633091|0.05266891292782408|0.05160489448483774|0.05479694981379677|0.06809718035112608|0.07412661819471537|0.06774250753679731|0.04504344741975527|0.04504344741975527|0.040610037240645505|0.052491576520659694|9.377086836878923e-05|', '|Valley County, NE|0.05627705627705628|0.07046657046657047|0.059644059644059645|0.06084656084656084|0.04304954304954305|0.0481000481000481|0.05170755170755171|0.05603655603655604|0.046657046657046654|0.05315055315055315|0.06060606060606061|0.06661856661856662|0.06878306878306878|0.06902356902356903|0.06012506012506012|0.05146705146705147|0.035594035594035595|0.04184704184704185|9.487747983819814e-05|']\n",
      "['|Name|2019|total-employees|Percentage Employed|', '|---|---|---|---|', '|New York County, NY|1628706|2327677|142.91572573564534|', '|Fairfax City, VA|24019|26817|111.64911112036305|', '|Norton City, VA|3981|4354|109.36950514945994|', '|Pitkin County, CO|17767|18122|101.99808633984352|', '|Galax City, VA|6347|5773|90.95635733417362|']\n",
      "['|Name|2019|total-employees|Percentage Employed|', '|---|---|---|---|', '|Banner County, NE|745|0|0|', '|Mcpherson County, NE|494|0|0|', '|Loving County, TX|169|0|0|', '|King County, TX|272|0|0|', '|Borden County, TX|654|0|0|']\n"
     ]
    }
   ],
   "source": [
    "for table in filter(lambda x: len(x) != 0, tables):\n",
    "    print(table)"
   ]
  },
  {
   "cell_type": "code",
   "execution_count": 5,
   "id": "ef294bce-b40e-451f-bf7a-8d3b06a6cb8f",
   "metadata": {},
   "outputs": [
    {
     "data": {
      "text/plain": [
       "['|Name|temp-jan|temp-apr|temp-jul|temp-oct|Temperature Variation|',\n",
       " '|---|---|---|---|---|---|',\n",
       " '|Yukon-koyukuk Census Area, AK|-8.9|26.5|59.4|21.4|586.785|',\n",
       " '|Southeast Fairbanks Census Area, AK|-8.5|30.4|59.2|22.4|581.186875|',\n",
       " '|Kittson County, MN|0.8|39.7|68.4|40.6|579.0218750000001|',\n",
       " '|Fairbanks North Star Borough, AK|-4.1|32.0|60.8|23.9|534.7425|',\n",
       " '|North Slope Borough, AK|-14.5|3.0|47.5|16.3|514.341875|']"
      ]
     },
     "execution_count": 5,
     "metadata": {},
     "output_type": "execute_result"
    }
   ],
   "source": [
    "tables[0]"
   ]
  },
  {
   "cell_type": "code",
   "execution_count": 7,
   "id": "a027b3dc-f553-4049-8d96-c942837ebb83",
   "metadata": {},
   "outputs": [
    {
     "data": {
      "text/plain": [
       "['',\n",
       " 'Yukon-koyukuk Census Area, AK',\n",
       " '-8.9',\n",
       " '26.5',\n",
       " '59.4',\n",
       " '21.4',\n",
       " '586.785',\n",
       " '']"
      ]
     },
     "execution_count": 7,
     "metadata": {},
     "output_type": "execute_result"
    }
   ],
   "source": [
    "tables[0][2].split('|')"
   ]
  },
  {
   "cell_type": "code",
   "execution_count": null,
   "id": "0b10b444-16d0-4512-9fc9-e649803b4345",
   "metadata": {},
   "outputs": [],
   "source": [
    "tables = [table for table in filter(lambda x: len(x) != 0, tables)]\n",
    "\n",
    "lines = tables[0]\n",
    "\n",
    "table = []\n",
    "for line in lines:\n",
    "    str_list = line.split('|')\n",
    "    values = []\n",
    "    for value in str_list:\n",
    "        if value == '':\n",
    "            continue\n",
    "        if value.isnum():\n",
    "            values.append(int(value))\n",
    "        else:\n",
    "            values.append(value.strip())\n",
    "    table.append(values)\n",
    "            "
   ]
  }
 ],
 "metadata": {
  "kernelspec": {
   "display_name": "Python 3 (ipykernel)",
   "language": "python",
   "name": "python3"
  },
  "language_info": {
   "codemirror_mode": {
    "name": "ipython",
    "version": 3
   },
   "file_extension": ".py",
   "mimetype": "text/x-python",
   "name": "python",
   "nbconvert_exporter": "python",
   "pygments_lexer": "ipython3",
   "version": "3.12.7"
  }
 },
 "nbformat": 4,
 "nbformat_minor": 5
}
