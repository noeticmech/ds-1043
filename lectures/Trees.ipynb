{
 "cells": [
  {
   "cell_type": "markdown",
   "id": "5bec0819-2285-4e66-8d24-ac66fed4b06b",
   "metadata": {},
   "source": [
    "**Objects** are effectively \"bundles\" of data and code that work on those data. In Python, when we talk about \"type\", we are talking specifically about a type of object (this is not necessarily true in other languages).\n",
    "\n",
    "A **class** is the blueprint for an object. Once defined, the **class object** can be used to **instantiate** new **instances** of the class. \n",
    "\n",
    "Objects have **attributes** and **methods**, which are the data particular to that instance and the functions that work on that data. We will sometimes call these **members** of the class."
   ]
  },
  {
   "cell_type": "code",
   "execution_count": 1,
   "id": "4f7913d9-a136-4a83-867b-1086d3d269af",
   "metadata": {},
   "outputs": [],
   "source": [
    "class Node:\n",
    "\n",
    "    def __init__(self, value, parent=None):  # Constructor Method\n",
    "        self._value = value                  # these are instance attributes\n",
    "        self._parent = parent                # they are specific to a particular instance of the class\n",
    "        self._left = None             \n",
    "        self._right = None\n",
    "        self._quantity = 1"
   ]
  },
  {
   "cell_type": "markdown",
   "id": "ed140cf3-21f9-4294-817a-c7e586d51dc2",
   "metadata": {},
   "source": [
    "The function `__init__` is the **constructor** for our class. It is called whenever we call the class object. Methods take the object they work on as their first argument. This argument does not need to be specified when calling the method using dot notation. "
   ]
  },
  {
   "cell_type": "code",
   "execution_count": null,
   "id": "50e6d2a9-1146-469c-8eab-76b1375cf98c",
   "metadata": {},
   "outputs": [],
   "source": [
    "root = Node(5)"
   ]
  },
  {
   "cell_type": "markdown",
   "id": "ad9b86b3-b6b9-499c-92fb-850dc052ae11",
   "metadata": {},
   "source": [
    "Python allows us to create objects that conform to a common interface through the **Python Data Model**. While the Python Data Model covers more than this, our focus is going to be on implementing operators for our objects. This is commonly called **operator overloading**."
   ]
  },
  {
   "cell_type": "code",
   "execution_count": 2,
   "id": "97df47f8-5d7b-454a-8940-0e19acaad17e",
   "metadata": {},
   "outputs": [],
   "source": [
    "Node.__eq__ = lambda a, b: a._value == b\n",
    "Node.__lt__ = lambda a, b: a._value < b\n",
    "Node.__gt__ = lambda a, b: a._value > b\n",
    "Node.__le__ = lambda a, b: a._value <= b\n",
    "Node.__ge__ = lambda a, b: a._value >= b"
   ]
  },
  {
   "cell_type": "code",
   "execution_count": 3,
   "id": "b7e46f95-3083-4e88-89d4-7c2ef736ddce",
   "metadata": {},
   "outputs": [],
   "source": [
    "def represent(node):\n",
    "    if node._left is None and node._right is None:\n",
    "        return f'{node._value}'\n",
    "    return f'{node._value} ({node._left}, {node._right})'\n",
    "\n",
    "Node.__repr__ = represent"
   ]
  },
  {
   "cell_type": "code",
   "execution_count": null,
   "id": "6754ba72-9ff6-426d-83d2-eda45cf7732c",
   "metadata": {},
   "outputs": [],
   "source": [
    "str(root)"
   ]
  },
  {
   "cell_type": "code",
   "execution_count": null,
   "id": "6d640d24-047f-4ac1-97b7-13689b495f53",
   "metadata": {},
   "outputs": [],
   "source": [
    "root._left = Node(4, parent=root)\n",
    "root._right = Node(6, parent=root)\n",
    "str(root)"
   ]
  },
  {
   "cell_type": "code",
   "execution_count": 4,
   "id": "8878c46d-6c22-47e5-ac4b-f4a506ca98c2",
   "metadata": {},
   "outputs": [],
   "source": [
    "def insert(root, value):\n",
    "    last = None\n",
    "    current = root\n",
    "    while current is not None:\n",
    "        last = current\n",
    "        if value < current:\n",
    "            current = current._left\n",
    "        elif value > current:\n",
    "            current = current._right\n",
    "        else:\n",
    "            current._quantity = current._quantity + 1\n",
    "            return\n",
    "    if value < last:\n",
    "        last._left = Node(value, last)\n",
    "    else:\n",
    "        last._right = Node(value, last)\n",
    "\n",
    "Node.insert = insert"
   ]
  },
  {
   "cell_type": "code",
   "execution_count": null,
   "id": "86cb729e-a538-4dd7-9b82-a34d26970dea",
   "metadata": {},
   "outputs": [],
   "source": [
    "root = None"
   ]
  },
  {
   "cell_type": "code",
   "execution_count": null,
   "id": "d0754bbc-0a08-48f8-9ab7-ba1f3be0911a",
   "metadata": {},
   "outputs": [],
   "source": [
    "import random\n",
    "random.seed()\n",
    "for item in {random.randint(1,100) for _ in range(20)}:\n",
    "    if root is None:\n",
    "        root = Node(item)\n",
    "    else:\n",
    "        root.insert(item)"
   ]
  },
  {
   "cell_type": "code",
   "execution_count": null,
   "id": "e574b7d5-3c88-4d0d-8f1e-d8d1fc430b81",
   "metadata": {},
   "outputs": [],
   "source": [
    "root"
   ]
  },
  {
   "cell_type": "code",
   "execution_count": 5,
   "id": "295bdca5-9e62-4356-96db-f26222cfe969",
   "metadata": {},
   "outputs": [],
   "source": [
    "def traverse_in_order(root):\n",
    "    if root is not None:\n",
    "        yield from traverse_in_order(root._left)\n",
    "        yield root._value\n",
    "        yield from traverse_in_order(root._right)"
   ]
  },
  {
   "cell_type": "code",
   "execution_count": null,
   "id": "00bde5ab-a9e4-4afc-9b13-9118ed491d5e",
   "metadata": {},
   "outputs": [],
   "source": [
    "for item in traverse_in_order(root):\n",
    "    print(item, end=', ')"
   ]
  },
  {
   "cell_type": "code",
   "execution_count": 6,
   "id": "229c7bff-62ed-48e7-92e9-08614f88133a",
   "metadata": {},
   "outputs": [],
   "source": [
    "Node.__iter__ = traverse_in_order"
   ]
  },
  {
   "cell_type": "code",
   "execution_count": null,
   "id": "bfdd8224-094b-4e9a-9ae2-f2e8ea15ece5",
   "metadata": {},
   "outputs": [],
   "source": [
    "for item in root:\n",
    "    print(item, end=', ')"
   ]
  },
  {
   "cell_type": "code",
   "execution_count": 7,
   "id": "36a755a9-ac21-4e9f-9f67-bc709a19dc8e",
   "metadata": {},
   "outputs": [],
   "source": [
    "def traverse_in_reverse(root):\n",
    "    if root is not None:\n",
    "        yield from traverse_in_reverse(root._right)\n",
    "        yield root._value\n",
    "        yield from traverse_in_reverse(root._left)\n",
    "\n",
    "Node.reverse = traverse_in_reverse"
   ]
  },
  {
   "cell_type": "code",
   "execution_count": null,
   "id": "7517a5c5-7d86-4367-ae79-4a8c83027410",
   "metadata": {},
   "outputs": [],
   "source": [
    "root.reverse()"
   ]
  },
  {
   "cell_type": "code",
   "execution_count": null,
   "id": "053226bd-13c4-4898-8585-41495c3c27d0",
   "metadata": {},
   "outputs": [],
   "source": [
    "for item in root.reverse():\n",
    "    print(item, end=', ')"
   ]
  },
  {
   "cell_type": "code",
   "execution_count": 8,
   "id": "3f8b8b36-32a3-4fe4-a64f-ac754812c438",
   "metadata": {},
   "outputs": [],
   "source": [
    "def contains(root, value):\n",
    "    if root is not None:\n",
    "        if value == root:\n",
    "            return True\n",
    "        if value < root:\n",
    "            return contains(root._left, value)\n",
    "        else:\n",
    "            return contains(root._right, value)\n",
    "    else:\n",
    "        return False"
   ]
  },
  {
   "cell_type": "code",
   "execution_count": null,
   "id": "9cf99e85-68e4-4fe8-9cd1-1fdbffb01960",
   "metadata": {},
   "outputs": [],
   "source": [
    "contains(root, 72)"
   ]
  },
  {
   "cell_type": "code",
   "execution_count": null,
   "id": "35580186-cf20-48d6-bf00-220f2c00c1e7",
   "metadata": {},
   "outputs": [],
   "source": [
    "contains(root, 13)"
   ]
  },
  {
   "cell_type": "code",
   "execution_count": 24,
   "id": "af8097b6-dd86-4ca7-a559-8d38280a5335",
   "metadata": {},
   "outputs": [],
   "source": [
    "class Tree:\n",
    "\n",
    "    def __init__(self, iterable=()):\n",
    "        if len(iterable) > 0:\n",
    "            self._root = Node(iterable[0])\n",
    "            self._length = 1\n",
    "            for item in iterable[1:]:\n",
    "                self.insert(item)\n",
    "\n",
    "    def insert(self, item):\n",
    "        self._root.insert(item)\n",
    "        self._length = self._length + 1\n",
    "\n",
    "    def __len__(self):\n",
    "        return self._length"
   ]
  },
  {
   "cell_type": "code",
   "execution_count": 10,
   "id": "311ac5d5-e59b-4c53-818d-f749bc055e6b",
   "metadata": {
    "editable": true,
    "slideshow": {
     "slide_type": ""
    },
    "tags": []
   },
   "outputs": [],
   "source": [
    "import timeit\n",
    "import sys\n",
    "import random\n",
    "from string import ascii_lowercase, ascii_uppercase"
   ]
  },
  {
   "cell_type": "code",
   "execution_count": 11,
   "id": "af66dfe7-ce7a-4ab0-ac2d-4a0338d9459f",
   "metadata": {},
   "outputs": [],
   "source": [
    "random.seed()"
   ]
  },
  {
   "cell_type": "code",
   "execution_count": 12,
   "id": "7eec5ab3-9f2a-49ce-836d-8d027c7f630f",
   "metadata": {},
   "outputs": [],
   "source": [
    "haystack_list = [''.join([random.choice(ascii_lowercase + ascii_uppercase) for _ in range(6)]) for _ in range(1000)]\n",
    "haystack_set = set(haystack_list)\n",
    "haystack_tree = Tree(sorted(haystack_set))"
   ]
  },
  {
   "cell_type": "code",
   "execution_count": 13,
   "id": "0f5ac015-d0e0-417e-8fd0-dcee8b686429",
   "metadata": {},
   "outputs": [],
   "source": [
    "haystack_list.append('Needle')\n",
    "haystack_set.update({'Needle'})\n",
    "haystack_tree.insert('Needle')"
   ]
  },
  {
   "cell_type": "code",
   "execution_count": 14,
   "id": "b55febb7-22b8-4c7f-8a7e-20f6bc3eff7c",
   "metadata": {},
   "outputs": [
    {
     "name": "stdout",
     "output_type": "stream",
     "text": [
      "\n",
      "| data structure | Number of Items |\n",
      "| :------------- | ------------- : |\n",
      "| haystack_list  |            1001 |\n",
      "| haystack_set   |            1001 |\n",
      "| haystack_tree  |            1001 |\n",
      "\n"
     ]
    }
   ],
   "source": [
    "print(f\"\"\"\n",
    "| data structure | Number of Items |\n",
    "| :------------- | ------------- : |\n",
    "| haystack_list  | {len(haystack_list):>15n} |\n",
    "| haystack_set   | {len(haystack_set):>15n} |\n",
    "| haystack_tree  | {len(haystack_tree):>15n} |\n",
    "\"\"\")"
   ]
  },
  {
   "cell_type": "code",
   "execution_count": 15,
   "id": "1d8c3b9a-2498-4401-bc26-1b67897a7892",
   "metadata": {},
   "outputs": [
    {
     "name": "stdout",
     "output_type": "stream",
     "text": [
      "\n",
      "| data structure | Size in Memory |\n",
      "| :------------- | -------------: |\n",
      "| haystack_list  |           8856 |\n",
      "| haystack_set   |          32984 |\n",
      "| haystack_tree  |          47047 |\n",
      "\n"
     ]
    }
   ],
   "source": [
    "print(f\"\"\"\n",
    "| data structure | Size in Memory |\n",
    "| :------------- | -------------: |\n",
    "| haystack_list  | {sys.getsizeof(haystack_list):>14n} |\n",
    "| haystack_set   | {sys.getsizeof(haystack_set):>14n} |\n",
    "| haystack_tree  | {sum([sys.getsizeof(node) for node in haystack_tree._root]):>14n} |\n",
    "\"\"\")"
   ]
  },
  {
   "cell_type": "code",
   "execution_count": 16,
   "id": "bdc8e0a5-1601-483f-8dc8-e4d0ea19591b",
   "metadata": {},
   "outputs": [],
   "source": [
    "list_time = timeit.timeit(\"'Needle' in haystack_list\", globals=globals(), number=1000)\n",
    "set_time = timeit.timeit(\"'Needle' in haystack_set\", globals=globals(), number=1000)\n",
    "tree_time = timeit.timeit(\"'Needle' in haystack_tree._root\", globals=globals(), number=1000)"
   ]
  },
  {
   "cell_type": "code",
   "execution_count": 17,
   "id": "dbd46cc1-84d2-4051-82e2-2feb202a37db",
   "metadata": {},
   "outputs": [
    {
     "name": "stdout",
     "output_type": "stream",
     "text": [
      "\n",
      "| data structure | Search Time |\n",
      "| :------------- | ----------: |\n",
      "| haystack_list  |    0.038915 |\n",
      "| haystack_set   |  2.8964e-05 |\n",
      "| haystack_tree  |    0.577039 |\n",
      "\n"
     ]
    }
   ],
   "source": [
    "print(f\"\"\"\n",
    "| data structure | Search Time |\n",
    "| :------------- | ----------: |\n",
    "| haystack_list  | {list_time:>11n} |\n",
    "| haystack_set   | {set_time:>11n} |\n",
    "| haystack_tree  | {tree_time:>11n} |\n",
    "\"\"\")"
   ]
  },
  {
   "cell_type": "code",
   "execution_count": 18,
   "id": "346c4472-9989-4184-8785-4acf187d4b17",
   "metadata": {},
   "outputs": [
    {
     "data": {
      "text/plain": [
       "<__main__.Tree at 0x7df0406f9af0>"
      ]
     },
     "execution_count": 18,
     "metadata": {},
     "output_type": "execute_result"
    }
   ],
   "source": [
    "haystack_tree"
   ]
  },
  {
   "cell_type": "code",
   "execution_count": 19,
   "id": "61dc33d3-9580-4e07-ba23-c3ce347aa50c",
   "metadata": {},
   "outputs": [
    {
     "data": {
      "text/plain": [
       "AAomUq (None, ABvsxQ (None, ACBzwW (None, AEoASr (None, AGhEqh (None, AJPgwa (None, ALgqWv (None, ASSyjC (None, ATbIZQ (None, AWRnZn (None, AYJTKh (None, AZdzCT (None, AaeBuD (None, AejODq (None, AkTwdG (None, AnhJHb (None, AqdcON (None, AqgGKP (None, ArdgzB (None, AvQQzE (None, AyBZRM (None, BCHOin (None, BDDbTr (None, BDEuWg (None, BFMIEz (None, BHphsg (None, BILdoy (None, BLBwqg (None, BOARvK (None, BOeBrJ (None, BOuvFR (None, BYAiyx (None, BglAGi (None, BiSkkh (None, BicwJO (None, BkLyBV (None, BnqCnl (None, Bozcwv (None, BpBOtr (None, BsSbog (None, BsXjId (None, BxIzNW (None, CBmlgY (None, CKinHu (None, CLKEqo (None, CQPmLr (None, CYOSfx (None, CifgXp (None, CkKoRl (None, CrodpC (None, CteKcj (None, DBWiHO (None, DDPToF (None, DDQAsH (None, DFVqPs (None, DHfxlu (None, DPDVCQ (None, DTYgHS (None, DTkUxT (None, DYTEst (None, DmUaMP (None, DmWIPJ (None, DneWsE (None, DrRuNV (None, DsHWvQ (None, Dtaxox (None, DxVABs (None, DxZFca (None, ECRMBN (None, EDVdrb (None, EHzCMD (None, EKAnQS (None, EKBXGz (None, ETTomq (None, EfrVjj (None, EgeGLJ (None, Eiagtd (None, EitVEI (None, EkgVQR (None, ElDefs (None, EngtyY (None, EqzduT (None, ErbJzV (None, EsSCgg (None, EshVuu (None, EtsUbp (None, EuXFmM (None, EwofpO (None, ExiEVz (None, EyKMlW (None, EzHMWg (None, FAsUun (None, FEmuXS (None, FFjEpz (None, FGDBAa (None, FJdAzP (None, FLXSae (None, FPHpKE (None, FPfYMS (None, FSPntb (None, FUeXAW (None, FWtmMq (None, FaADXN (None, FgjUyh (None, FjrlAE (None, FmPryU (None, FnAkja (None, FnLSSe (None, FsmjRm (None, FuAVuZ (None, FvglgH (None, FvhjvB (None, GCVxHv (None, GENjHv (None, GFRIVK (None, GFaRBG (None, GIuwQI (None, GJCCxS (None, GSCQmo (None, GSeCNt (None, GWnVZU (None, GbeVrx (None, GccLNg (None, GjqFFM (None, GkIVff (None, GmTcrS (None, GmbfPR (None, GnmgtO (None, GpNSxV (None, GpQxnp (None, GpbCnw (None, GsIllS (None, GyEsbH (None, HADXSG (None, HAugZy (None, HClIsh (None, HIPIRW (None, HJziSi (None, HKkJDv (None, HNqitP (None, HQAdNY (None, HSWEGO (None, HUJtgs (None, HVfGdP (None, HWGeIz (None, HWObtP (None, HYwKgh (None, HZjAwL (None, HaLatT (None, HbjLkj (None, HeKELo (None, HeToBh (None, HfDwuK (None, Hgtaib (None, HkRTic (None, HnnBSW (None, HotBlj (None, HrYfLu (None, HxhZPs (None, HygsUg (None, HyzZvu (None, IDTwBH (None, IEqDuI (None, IJQWaU (None, ISedUm (None, IVYabl (None, IbOOyA (None, IitDmL (None, IlXLlv (None, IwOCOr (None, IxDQAz (None, JASJKI (None, JBFFbI (None, JDCApb (None, JINsAB (None, JJVLdS (None, JLbJXK (None, JQyLLR (None, JRSAQV (None, JTdoLn (None, JWnQDp (None, JYTAsm (None, JYbxOW (None, JaAEAs (None, JbJVmA (None, JbXDGw (None, JffZCj (None, Jfjjwm (None, JfkYKo (None, JfsLlT (None, JlyorL (None, JnIavh (None, JtAnar (None, Jvlgtc (None, JyhbSm (None, KANJtD (None, KAtkxF (None, KDTEqT (None, KFknIH (None, KFzcDv (None, KGYtLP (None, KIFXyC (None, KKbawr (None, KNwUAG (None, KSnIYq (None, KWLuQe (None, KWmzSu (None, KYBgqc (None, KZepdS (None, KcKJUr (None, KckdIA (None, KgFwyN (None, KhHLaP (None, KhVzgN (None, KhbagF (None, KhxQKp (None, KkPyPv (None, KmKHOb (None, KmfTeE (None, KuGCWh (None, KwcfVK (None, KyxJow (None, KzAztp (None, LEyPhA (None, LFLTuM (None, LJGiVd (None, LKBnwg (None, LMynHw (None, LOYUPh (None, LYSgXI (None, LaLuNZ (None, LafSNN (None, LeFKpZ (None, LhkGYl (None, LkLlky (None, LmaoMi (None, LnEODO (None, LnlvgO (None, LnzJOD (None, LpcDyU (None, LtxCQr (None, MBubDn (None, MCcAdJ (None, MCykTf (None, MGExFQ (None, MHhrUS (None, MHqQfV (None, MLsPvU (None, MNgjHy (None, MTlOfc (None, MbroMP (None, Mhrmmr (None, Mkumke (None, MmCyxP (None, MoabKp (None, MpZYbl (None, MyDlwX (None, NEPBFZ (None, NILiPp (None, NPIDEz (None, NWvvhg (None, NcKrnb (None, Ndhmsm (None, NecplT (None, NfoNtZ (Needle, NgicJY (None, NhJwhI (None, NhLfsI (None, NhdVFm (None, NkJlaP (None, NoIAUu (None, NsFZJs (None, NsbxMS (None, NvmndT (None, OCcgTR (None, OFTnGK (None, OHknXZ (None, OKQbFN (None, OSwubN (None, OZgeNH (None, OaKUbf (None, ObYfvQ (None, OdCemp (None, OdVANB (None, OeveOd (None, OfbBOu (None, OmFzDp (None, OqDKcJ (None, OrrOJc (None, OvIEOW (None, OzkVXY (None, Ozlfiy (None, PAUoVf (None, PFkYOH (None, PHqHoe (None, PJZnjK (None, PNMFlQ (None, POQTRg (None, PPbuOf (None, PSBdYg (None, PWIkBa (None, PXctKN (None, PciHOD (None, PdwBkm (None, PhOGsv (None, PjOdrm (None, PqnCWF (None, PtUUsi (None, PxPDxO (None, QEsUPk (None, QKoeBs (None, QLGiOE (None, QRaazH (None, QRlvOb (None, QXssED (None, QejDwo (None, QiWHnE (None, QjKMxR (None, QpVjVC (None, QphGYB (None, QqVzWM (None, QsqkvN (None, QsyDVD (None, QttaNF (None, QuVBwp (None, QvBUKw (None, QvJuMM (None, QxiUIX (None, QymAlK (None, RChzAi (None, RFQDEq (None, RGNRuw (None, RJZHLu (None, RKxHzK (None, RPyMSF (None, RQBhSN (None, RSQoYA (None, RVXCgq (None, RXzdeH (None, RYBTrU (None, RaNdjA (None, RjpHDp (None, RkTQLC (None, RrGDBg (None, RxQkoH (None, RyhffN (None, SAxpNh (None, SFJNYX (None, SGffbu (None, SNNCNB (None, SRXTwo (None, SSyFiU (None, SZwzVA (None, SbZimW (None, SdbKqF (None, SgfWhe (None, ShEHvy (None, ShQTFw (None, SkslTE (None, SlfhLH (None, SnvSEr (None, SsAioa (None, SwCKAC (None, TAhvfp (None, TDXDyR (None, TEIRox (None, THdBfy (None, TKvXeo (None, TLfxUt (None, TMucLJ (None, TPLxmc (None, TQnLHu (None, TTmHtL (None, TUUMTt (None, TVLxeD (None, TWUntF (None, TXuvEv (None, TdiueC (None, TdvOkC (None, TeDbOa (None, TgJBTj (None, TgVKFJ (None, TlOuef (None, TmXaNn (None, TtLfQZ (None, TtYEdI (None, TwHzdC (None, TyTvpO (None, TzNadP (None, UEGjzx (None, UGbxZj (None, UHbfHh (None, UMyqSo (None, UNPznH (None, UNoRSY (None, USKfmn (None, UTjqCV (None, UVuNze (None, UbPoRc (None, UgfdNW (None, Uhxkde (None, UmDWiQ (None, UqvzeB (None, Uuxuei (None, VEZFvA (None, VFOjck (None, VHHOYX (None, VOWSZR (None, VPwJTK (None, VRBwad (None, VRFjzR (None, VVMTmI (None, VVorzy (None, VdNZGz (None, VdYvPw (None, VfmTTK (None, VhkOGu (None, ViVkcu (None, VjNyHf (None, VkPqPU (None, VmcCof (None, VqKjnc (None, VsAcBs (None, VwEuOx (None, Vwefim (None, VxtHvC (None, WCFfCu (None, WHnzir (None, WQEMoy (None, WQzhki (None, WVntUO (None, WYgWFn (None, Wacvfo (None, WcEUjh (None, WcclMJ (None, Wdhssk (None, WfAfGO (None, WfxByg (None, WjPxEy (None, WjiMrn (None, WleQvw (None, WojAks (None, WvQrnO (None, WvqBwS (None, WwAMXB (None, XALDws (None, XQByVw (None, XRUDBM (None, XcEFzC (None, XiZqdx (None, XjYLqE (None, XkxPDf (None, XlNgzO (None, Xpqytm (None, XqSqOK (None, XvzALr (None, XyUPwl (None, XznelC (None, YAMMSS (None, YBvPSD (None, YCMtKi (None, YEZBKb (None, YFAnmD (None, YFPqzb (None, YIYwcz (None, YIjEPn (None, YLZAyd (None, YWHeUj (None, YXCmAi (None, YXVawa (None, YYTZoL (None, YZvtde (None, Yaucwj (None, YbaqCZ (None, YjBTRL (None, YsLLEM (None, YtfejW (None, YwleoO (None, YyGdNS (None, YzeHiG (None, ZCJtzU (None, ZOKdrq (None, ZOXBWU (None, ZPNEwO (None, ZPPJyq (None, ZQQniY (None, ZQRquo (None, ZRmAmv (None, ZSVJht (None, ZUFXzs (None, ZfSBDu (None, ZfhDvD (None, ZooSlp (None, ZvvveK (None, aCKJCN (None, aCuxml (None, aNxvis (None, aUtJby (None, aYZolc (None, aaidKL (None, aerjUK (None, aeykxI (None, aggzPW (None, aksXjp (None, aoBvzy (None, arlsIe (None, avuPew (None, azVDCz (None, bBkXAS (None, bCGTMg (None, bCuCDt (None, bEpSoI (None, bFQWvn (None, bFjQHn (None, bOOteG (None, bPXpNH (None, bTmHap (None, bUMTmx (None, bVZCxp (None, bVbzDj (None, bWoSVM (None, bWxqlz (None, bfNYXB (None, boWJDw (None, bvBhST (None, bvbxjU (None, cNDIpE (None, cRlHls (None, cRxWWb (None, cWQiQG (None, cZlRwb (None, carXyz (None, ccJMAf (None, ccoXTP (None, ceLolx (None, cfEbCa (None, cfhlpf (None, chEkwi (None, cjaQPP (None, clCroy (None, cmTtUO (None, cmeRQD (None, cortHF (None, cpVfMv (None, crlMOT (None, cupwEe (None, cyHptu (None, cyaesb (None, czNFQz (None, dAoLvP (None, dEGbwq (None, dEbEVn (None, dGqrRx (None, dHjVRK (None, dRdFUi (None, dSusCM (None, dTCPQN (None, dTnyAU (None, dXmsZy (None, dgyTIW (None, dkFSDj (None, dkNDxO (None, dnEvBa (None, dpjNLs (None, dsyRqa (None, dxGkAS (None, dyroQk (None, eCBtrn (None, eEfcOE (None, eFuxpE (None, eIPCcb (None, eIiSLp (None, eSPPkk (None, eVwVDG (None, eVwgTD (None, eYxKhq (None, eavyZQ (None, edWCnd (None, efUjpA (None, ehztIR (None, eihetH (None, elMIcV (None, emFvfH (None, emIiFw (None, enwwjD (None, euTTmr (None, ewBLvd (None, ezrKkZ (None, fEXTaK (None, fFXrzH (None, fJESdx (None, fJmqOp (None, fMYttQ (None, fMxsRY (None, fXgcBt (None, fdTQBe (None, fdslgd (None, fgDQwQ (None, firMRL (None, flClCl (None, fnXSIX (None, ftvROp (None, fuyhFD (None, fzigZL (None, gDwlUr (None, gKMYpa (None, gMzPGx (None, gPOSEg (None, gPgeQP (None, gQmsrP (None, gSvlJd (None, gVPbTF (None, gVYXcW (None, gXNJlU (None, gYNVae (None, gelocq (None, gewqWh (None, gfESwk (None, gfoPom (None, ggQZlH (None, gjHplx (None, gjkkxD (None, gkQKNM (None, glaQhR (None, gmJYyf (None, gnlAeu (None, gosgpn (None, grKHRf (None, gtPwtA (None, gumVlA (None, gvmfbx (None, gvnuNt (None, gwcwFn (None, gwxiDn (None, gxwBRP (None, gyQevd (None, hARsiJ (None, hASVMl (None, hAWwNZ (None, hAiPjx (None, hBNUTd (None, hDdwWX (None, hEiHjL (None, hGOJPj (None, hHbobj (None, hIJlZU (None, hIoQNn (None, hIqSeU (None, hMAbhr (None, hMsrlh (None, hNpUlA (None, hPOfGm (None, hPRJcl (None, hQfCYk (None, hQjbMb (None, hSmhaq (None, hUnpTp (None, hXOvVJ (None, heXtwG (None, higsHU (None, hlLqjw (None, hlODOt (None, hmPbai (None, hmYDPD (None, hmcoTg (None, hteziT (None, hvDqFL (None, hxbOkB (None, hzhpma (None, iBJgRw (None, iCyEFa (None, iFdaUo (None, iGIAbu (None, iHsiVd (None, iJYiEo (None, iKXRln (None, iMarNu (None, iNgwkh (None, iPLhxc (None, iQCiDn (None, iQpbQU (None, iVdvzk (None, iYskWO (None, iajlTK (None, idPMjj (None, ieEqka (None, ifaNsQ (None, ioEbui (None, ipKmuh (None, irriUt (None, iyITHY (None, jIEeyv (None, jIbYWX (None, jKnqVq (None, jMpKaG (None, jTljbt (None, jVUTYQ (None, jYnWAS (None, janEOb (None, jbAAqs (None, jcaVNj (None, jhAyfQ (None, jlCHoQ (None, kBmkNI (None, kFRaFp (None, kNpglj (None, kQMsgn (None, kXKGbf (None, keIRTl (None, keyRBP (None, kgfazz (None, kjLCUN (None, klYDVk (None, kmIMsL (None, knxazA (None, koKWBi (None, krzWDk (None, ksCYpH (None, ksKkmr (None, ksMroQ (None, kthZdh (None, kyXkkQ (None, kzdXHF (None, lAehXM (None, lBajNf (None, lFswAF (None, lGoxNt (None, lLdwYK (None, lQRXYo (None, leafiR (None, leiWpN (None, lizAsB (None, ljbyTi (None, lnTWGS (None, lnoVqa (None, loPqRS (None, lpBPnU (None, ltlFIJ (None, lxfHrL (None, lxjTUo (None, lyRIOK (None, lzgEXb (None, lznYOL (None, lztwJQ (None, mAtYbL (None, mBuzXr (None, mDBleA (None, mHuWBp (None, mKkaSJ (None, mOmAUR (None, mPOKZa (None, mRfkpW (None, mTnYPO (None, mWUDGH (None, mahNGu (None, mcauMN (None, mfRvkR (None, mfnTlr (None, mnBzXL (None, mpGjIQ (None, mslXbh (None, mtLJtJ (None, mtppHX (None, myTqvn (None, mylEND (None, nBabQo (None, nKbSOt (None, nKhaJL (None, nLkkYg (None, nMyMgF (None, nNiGAr (None, nShanO (None, nkKtsh (None, noTsMy (None, nuVSqp (None, nuXnHL (None, nxqXcp (None, nzdaXS (None, oCIavY (None, oEPyAx (None, oMOrsW (None, oPOUEA (None, oSCTKd (None, oUyCyM (None, obGLLd (None, ocOlsk (None, ojaOjM (None, ojejls (None, otkABu (None, otqYBX (None, ovJTuT (None, oyBliI (None, pAsEUN (None, pGrHzY (None, pJJeVE (None, pLmKRj (None, pMGHzT (None, pMyHVS (None, pSvotg (None, pZRgHP (None, pZVESd (None, pZfmHj (None, pcpHTr (None, pmKCtW (None, pmQWhG (None, pplMQX (None, prpcDH (None, qARsgZ (None, qFGpph (None, qGAbUg (None, qJTbQL (None, qNOnfo (None, qUEyQG (None, qUmeCf (None, qYyKNc (None, qeCNZg (None, qebthN (None, qijsPk (None, qklDGo (None, qknSEe (None, qmLzHX (None, qpFlgc (None, qrGEsW (None, qthGGK (None, qtwYjK (None, qwyyMv (None, qxJdDU (None, qyCxyI (None, qypDRI (None, rBlGnV (None, rDNvUr (None, rDkkiZ (None, rJLwjQ (None, rJjoEc (None, rKErSt (None, rMwzGv (None, rNCNyd (None, rNRzHd (None, rQZIem (None, rRyPHl (None, rUZIck (None, rXOyXm (None, rZcbBs (None, raRtvy (None, raqaeE (None, rbaZhz (None, rcnoMe (None, rdqSkL (None, rgGkRC (None, rlGRWK (None, rxcNdv (None, rxdNSb (None, ryyGUG (None, sBnhwq (None, sCBflu (None, sHwUFC (None, sIMcpA (None, sIcwWh (None, sKrNpD (None, sQObzA (None, sWTxvj (None, scQBUN (None, sejMxb (None, siJpRb (None, sjdHQu (None, sjgbDb (None, skpPcL (None, skxlvd (None, skzdkt (None, slRgNS (None, slSlwn (None, srFCWt (None, ssSNdY (None, svWXHL (None, swcXqr (None, sxIeAA (None, tEWEII (None, tEgDXd (None, tFRipZ (None, tFRmmr (None, tGSCbY (None, tJMoBl (None, tKRNdH (None, tLYofO (None, tMXbBN (None, tQvssz (None, tTFWcC (None, tTVkic (None, tXPQxK (None, tXkZTi (None, tbjaym (None, tckbjW (None, tejJRl (None, tfJEBz (None, tfWGZQ (None, tgRbWm (None, txsRyw (None, txyljt (None, tyLLFJ (None, tzbFFO (None, uBiUUF (None, uFTpsF (None, uGSUUv (None, uMooeH (None, uOHORR (None, uSPXiS (None, uSSzSC (None, uWdXxP (None, uWuvOU (None, uZMGFe (None, uZiXEe (None, udeGZp (None, uhSKJc (None, ujMShP (None, ulYdTb (None, umYVoY (None, upFHvM (None, uyoiwq (None, uzAlsi (None, vAGsRy (None, vALTzi (None, vAdtkx (None, vDGUXj (None, vDURIe (None, vEpOsH (None, vFCNmx (None, vFOHut (None, vFPPvf (None, vOvhuU (None, vWMWwT (None, vZJsuN (None, vauHaY (None, vcRMlK (None, vfWDcX (None, vgWaji (None, vkFdCI (None, vrUSxR (None, vtcBYg (None, vxeycH (None, vxvFZn (None, wDIOHc (None, wFLSjm (None, wUrFqW (None, wXDUPg (None, wZcyfe (None, wdhuIC (None, wfDBhU (None, wicRrL (None, wisqhg (None, wkUmBP (None, wkYvyz (None, wlnQxj (None, wooMYk (None, wtopUE (None, xFBnpH (None, xHauzC (None, xJRhjL (None, xQqSmZ (None, xSvHEH (None, xagLgi (None, xdxMiy (None, xetQWH (None, xiTEhI (None, xsHzGf (None, xtYhrM (None, yCnJAQ (None, yDolTE (None, yIJhba (None, yJaCcj (None, yLqDUj (None, yXmweF (None, ydKjBR (None, ygSZKt (None, yigxkn (None, ykuxoa (None, ylhrpk (None, ypuqux (None, yqbgNi (None, yvrkCm (None, ywPKfB (None, yybUEe (None, yzeVlZ (None, zEbQON (None, zFpnQX (None, zLhdGT (None, zNMFFX (None, zUmHNx (None, zWegvc (None, zbTKld (None, zgaXIv (None, zgbxkS (None, zjbcvS (None, zomGNh (None, zrQPYU (None, zrbzvK (None, zreXFD (None, zsKqzb (None, ztgfbP (None, zuurbl (None, zytAuD)))))))))))))))))))))))))))))))))))))))))))))))))))))))))))))))))))))))))))))))))))))))))))))))))))))))))))))))))))))))))))))))))))))))))))))))))))))))))))))))))))))))))))))))))))))))))))))))))))))))))))))))))))))))))))))))))))))))))))))))))))))))))))))))))))))))))))))))))))))))))))))))))))))))))))))))))))))))))))))))))))))))))))))))))))))))))))))))))))))))))))))))))))))))))))))))))))))))))))))))))))))))))))))))))))))))))))))))))))))))))))))))))))))))))))))))))))))))))))))))))))))))))))))))))))))))))))))))))))))))))))))))))))))))))))))))))))))))))))))))))))))))))))))))))))))))))))))))))))))))))))))))))))))))))))))))))))))))))))))))))))))))))))))))))))))))))))))))))))))))))))))))))))))))))))))))))))))))))))))))))))))))))))))))))))))))))))))))))))))))))))))))))))))))))))))))))))))))))))))))))))))))))))))))))))))))))))))))))))))))))))))))))))))))))))))))))))))))))))))))))))))))))))))))))))))))))))))))))))))))))))))))))))))))))))))))))))))))))))))))))))))))))))))))))))))))))))))))))))))))"
      ]
     },
     "execution_count": 19,
     "metadata": {},
     "output_type": "execute_result"
    }
   ],
   "source": [
    "haystack_tree._root"
   ]
  },
  {
   "cell_type": "code",
   "execution_count": 30,
   "id": "8bf06898-6dcb-400c-8b3f-b7b90a1f1da9",
   "metadata": {},
   "outputs": [
    {
     "name": "stdout",
     "output_type": "stream",
     "text": [
      "[510528, 510269, 509991, 509503, 507278, 505718, 505041, 503994, 503819, 501760, 500652, 497535, 497200, 495544, 495420, 493617, 491747, 491471, 491254, 491002, 489859, 488564, 488126, 487087, 486783, 484477, 483945, 482208, 481582, 481466, 480315, 479287, 477933, 477785, 476925, 476707, 476157, 472015, 471931, 470159, 469787, 468362, 462358, 461155, 460387, 460002, 457686, 456486, 456027, 454667, 453932, 453690, 453198, 451356, 450402, 449534, 447750, 445483, 445429, 445036, 443885, 441619, 441291, 441068, 439092, 439086, 436860, 435711, 435514, 435296, 434912, 434255, 434157, 434067, 433264, 433087, 432237, 428850, 427436, 426724, 425958, 425856, 424578, 424262, 423743, 423119, 422988, 422616, 422576, 420224, 419865, 416915, 416768, 415355, 411147, 410866, 409529, 408728, 407244, 406533, 405849, 403780, 403321, 401762, 397272, 396314, 395864, 392937, 390551, 390418, 389366, 389160, 388522, 388432, 388206, 387111, 384617, 383961, 382017, 379051, 377167, 375268, 373915, 372863, 372033, 371360, 371181, 371043, 370807, 370558, 370390, 369221, 368990, 367602, 367347, 366466, 365206, 362273, 359882, 359588, 359230, 358865, 357150, 356988, 356635, 356154, 356078, 355818, 355368, 355206, 353895, 352695, 351292, 349599, 348008, 347329, 347165, 346930, 346598, 345748, 344199, 338906, 337429, 336652, 336559, 334855, 333422, 332220, 332074, 331736, 330863, 330523, 329375, 328322, 325936, 324653, 324058, 323619, 322840, 320326, 319404, 319059, 317034, 316412, 316187, 314875, 312282, 311914, 310971, 308916, 308668, 304938, 304798, 302926, 302626, 299707, 299413, 298501, 298386, 297298, 297203, 294593, 294369, 293721, 293684, 290983, 289423, 287294, 286329, 286040, 284479, 284399, 283771, 281991, 281673, 281409, 281217, 281040, 279339, 278417, 277929, 277349, 277232, 274599, 273250, 272891, 271922, 270896, 270029, 269150, 268848, 267958, 267030, 266899, 266834, 266211, 264459, 264341, 262582, 261701, 260053, 257895, 257631, 257241, 256809, 256730, 256599, 256183, 255782, 255304, 254933, 254797, 252988, 252797, 252642, 252322, 251329, 250006, 245809, 245533, 244818, 244812, 244331, 242615, 242396, 242058, 241838, 240786, 240771, 239708, 239689, 238068, 237853, 236464, 236461, 234593, 233783, 233164, 232441, 232220, 231932, 231368, 229859, 229615, 229357, 226438, 226190, 225718, 225067, 224870, 224505, 222867, 221301, 220916, 220036, 218370, 216604, 215765, 215468, 215286, 213642, 213011, 212949, 212396, 208883, 208578, 208355, 205937, 205560, 204740, 202934, 202423, 200348, 200222, 199445, 197642, 197215, 193001, 192624, 190569, 190221, 189376, 189373, 188598, 188463, 185840, 185346, 180061, 180008, 179387, 179083, 176443, 176381, 175684, 174288, 170852, 169592, 169029, 168946, 167821, 165969, 164437, 162579, 160206, 156898, 155883, 155258, 153225, 152799, 152742, 151567, 151233, 150802, 150675, 150366, 150245, 149625, 142842, 142776, 142775, 142713, 139568, 139286, 139226, 139039, 138775, 138421, 136014, 135973, 134538, 132264, 132098, 130569, 130383, 130278, 127923, 127683, 127637, 127417, 124671, 123638, 122705, 122301, 121602, 120670, 120395, 119494, 118368, 117316, 113697, 112579, 111125, 111061, 110816, 108913, 108827, 108641, 104612, 103211, 103054, 101371, 100188, 98948, 97669, 96390, 94186, 93919, 93356, 92954, 90812, 90638, 89885, 89123, 88910, 88512, 88502, 87188, 86860, 86669, 85969, 84542, 83935, 83119, 82979, 82766, 81677, 81622, 81304, 81124, 80920, 80823, 77378, 77374, 75597, 75300, 75164, 74689, 73939, 72831, 71963, 71005, 69913, 69107, 68498, 68495, 67072, 66723, 66160, 65715, 65223, 64732, 63916, 63299, 62826, 62206, 59734, 56505, 55665, 54154, 52748, 51007, 50477, 49634, 49514, 49282, 47051, 44747, 42980, 42876, 40705, 40291, 40244, 40109, 38718, 36069, 35553, 34178, 34021, 33230, 29580, 28629, 28081, 27373, 27017, 24348, 24241, 22739, 22361, 20162, 18605, 17902, 14012, 13454, 8891, 7689, 6953, 6148, 3779, 2759, 1630, 793]\n",
      "[510528, 512465, 510269, 512721, 509991, 513251, 509503, 513816, 507278, 515180, 505718, 515579, 505041, 517073, 503994, 517210, 503819, 517608, 501760, 518740, 500652, 521582, 497535, 524330, 497200, 524824, 495544, 525982, 495420, 526645, 493617, 526909, 491747, 529004, 491471, 530228, 491254, 530562, 491002, 530666, 489859, 531683, 488564, 532007, 488126, 532164, 487087, 532691, 486783, 533584, 484477, 534667, 483945, 534805, 482208, 536037, 481582, 537762, 481466, 537810, 480315, 540619, 479287, 541197, 477933, 542013, 477785, 544190, 476925, 544220, 476707, 544612, 476157, 547016, 472015, 547018, 471931, 548193, 470159, 548270, 469787, 549313, 468362, 550440, 462358, 550563, 461155, 550861, 460387, 551859, 460002, 553008, 457686, 553573, 456486, 556174, 456027, 556217, 454667, 556345, 453932, 557170, 453690, 558846, 453198, 559693, 451356, 565422, 450402, 566738, 449534, 566842, 447750, 567545, 445483, 567915, 445429, 568451, 445036, 569121, 443885, 571168, 441619, 572139, 441291, 572174, 441068, 573287, 439092, 574721, 439086, 575562, 436860, 577503, 435711, 578098, 435514, 578142, 435296, 579350, 434912, 581833, 434255, 584900, 434157, 585470, 434067, 585690, 433264, 587874, 433087, 590169, 432237, 590708, 428850, 592004, 427436, 592099, 426724, 592891, 425958, 594657, 425856, 597859, 424578, 597915, 424262, 598580, 423743, 599345, 423119, 600635, 422988, 602055, 422616, 602711, 422576, 602791, 420224, 605496, 419865, 605653, 416915, 605780, 416768, 606134, 415355, 607095, 411147, 607431, 410866, 607465, 409529, 607480, 408728, 609548, 407244, 610687, 406533, 612550, 405849, 612772, 403780, 614115, 403321, 617809, 401762, 620013, 397272, 620323, 396314, 620639, 395864, 620836, 392937, 622087, 390551, 622295, 390418, 623649, 389366, 625729, 389160, 626284, 388522, 626713, 388432, 626787, 388206, 626836, 387111, 627986, 384617, 628854, 383961, 629365, 382017, 631917, 379051, 632123, 377167, 632305, 375268, 635066, 373915, 636267, 372863, 639727, 372033, 639873, 371360, 640213, 371181, 640584, 371043, 641143, 370807, 641305, 370558, 642364, 370390, 643428, 369221, 643640, 368990, 643817, 367602, 645178, 367347, 646330, 366466, 647584, 365206, 647989, 362273, 648132, 359882, 648885, 359588, 650758, 359230, 652000, 358865, 652976, 357150, 654257, 356988, 654438, 356635, 654686, 356154, 654759, 356078, 657766, 355818, 660469, 355368, 660638, 355206, 662370, 353895, 663005, 352695, 663497, 351292, 663895, 349599, 667799, 348008, 668392, 347329, 669089, 347165, 669404, 346930, 670091, 346598, 670601, 345748, 670882, 344199, 672403, 338906, 672789, 337429, 674010, 336652, 674653, 336559, 675742, 334855, 676209, 333422, 676748, 332220, 679023, 332074, 679612, 331736, 682296, 330863, 684583, 330523, 686220, 329375, 686792, 328322, 686911, 325936, 686948, 324653, 688190, 324058, 689836, 323619, 692220, 322840, 693722, 320326, 694750, 319404, 695263, 319059, 696908, 317034, 697227, 316412, 697480, 316187, 699264, 314875, 700107, 312282, 700342, 311914, 703165, 310971, 704129, 308916, 706335, 308668, 706721, 304938, 707502, 304798, 709773, 302926, 709916, 302626, 710951, 299707, 711469, 299413, 711793, 298501, 711869, 298386, 711968, 297298, 713593, 297203, 714902, 294593, 715996, 294369, 716346, 293721, 716884, 293684, 717006, 290983, 717260, 289423, 717266, 287294, 718480, 286329, 719308, 286040, 721468, 284479, 722401, 284399, 725285, 283771, 726086, 281991, 726331, 281673, 726762, 281409, 728186, 281217, 728266, 281040, 729567, 279339, 731584, 278417, 733037, 277929, 733210, 277349, 734038, 277232, 734282, 274599, 734324, 273250, 735252, 272891, 735801, 271922, 735932, 270896, 736489, 270029, 736711, 269150, 738967, 268848, 739844, 267958, 740337, 267030, 741405, 266899, 741911, 266834, 743812, 266211, 744166, 264459, 744659, 264341, 745344, 262582, 746810, 261701, 747886, 260053, 748546, 257895, 749668, 257631, 751189, 257241, 751534, 256809, 752871, 256730, 753039, 256599, 753409, 256183, 754156, 255782, 754615, 255304, 756025, 254933, 756267, 254797, 757576, 252988, 759101, 252797, 761012, 252642, 761699, 252322, 762398, 251329, 763089, 250006, 763276, 245809, 765421, 245533, 767820, 244818, 767868, 244812, 774029, 244331, 774142, 242615, 775549, 242396, 778872, 242058, 778975, 241838, 779258, 240786, 780421, 240771, 780514, 239708, 781586, 239689, 782188, 238068, 782959, 237853, 783010, 236464, 783613, 236461, 785228, 234593, 787981, 233783, 790302, 233164, 792124, 232441, 792193, 232220, 793431, 231932, 794351, 231368, 794748, 229859, 795556, 229615, 797507, 229357, 797744, 226438, 798091, 226190, 798525, 225718, 798533, 225067, 798766, 224870, 799333, 224505, 799954, 222867, 800726, 221301, 800733, 220916, 803257, 220036, 804169, 218370, 804177, 216604, 804502, 215765, 804938, 215468, 807013, 215286, 808739, 213642, 810290, 213011, 810372, 212949, 811220, 212396, 811347, 208883, 811812, 208578, 812254, 208355, 814239, 205937, 814243, 205560, 815180, 204740, 818634, 202934, 820180, 202423, 821481, 200348, 821519, 200222, 821687, 199445, 822181, 197642, 824419, 197215, 825736, 193001, 825865, 192624, 827181, 190569, 827295, 190221, 828056, 189376, 829018, 189373, 830034, 188598, 831847, 188463, 831889, 185840, 832788, 185346, 833062, 180061, 835198, 180008, 835363, 179387, 837304, 179083, 838311, 176443, 838394, 176381, 839788, 175684, 841311, 174288, 844799, 170852, 846441, 169592, 848635, 169029, 849165, 168946, 849514, 167821, 850048, 165969, 850710, 164437, 852786, 162579, 854978, 160206, 855311, 156898, 858203, 155883, 858474, 155258, 860349, 153225, 861072, 152799, 861394, 152742, 861562, 151567, 861805, 151233, 863299, 150802, 863429, 150675, 867432, 150366, 868117, 150245, 868589, 149625, 868986, 142842, 870496, 142776, 870565, 142775, 871544, 142713, 876210, 139568, 876279, 139286, 877718, 139226, 879187, 139039, 882832, 138775, 883391, 138421, 883622, 136014, 884324, 135973, 884596, 134538, 885074, 132264, 887114, 132098, 888791, 130569, 891654, 130383, 891746, 130278, 891897, 127923, 892945, 127683, 895017, 127637, 895653, 127417, 897631, 124671, 900075, 123638, 900608, 122705, 902849, 122301, 904308, 121602, 905154, 120670, 905396, 120395, 906472, 119494, 906833, 118368, 907366, 117316, 910387, 113697, 911227, 112579, 911290, 111125, 912129, 111061, 914425, 110816, 915387, 108913, 915436, 108827, 915773, 108641, 916084, 104612, 917292, 103211, 917497, 103054, 920658, 101371, 921991, 100188, 924552, 98948, 925773, 97669, 926016, 96390, 926524, 94186, 926689, 93919, 927788, 93356, 927965, 92954, 928460, 90812, 929734, 90638, 930904, 89885, 932286, 89123, 932476, 88910, 933058, 88512, 934073, 88502, 934647, 87188, 934804, 86860, 934818, 86669, 935382, 85969, 935386, 84542, 935549, 83935, 935555, 83119, 935849, 82979, 935891, 82766, 936363, 81677, 936766, 81622, 936891, 81304, 937047, 81124, 937208, 80920, 940648, 80823, 940661, 77378, 944691, 77374, 944921, 75597, 945389, 75300, 946052, 75164, 946415, 74689, 946455, 73939, 947304, 72831, 947375, 71963, 947406, 71005, 948896, 69913, 949485, 69107, 950314, 68498, 951075, 68495, 951121, 67072, 951862, 66723, 952176, 66160, 952701, 65715, 952964, 65223, 953414, 64732, 953463, 63916, 955172, 63299, 956575, 62826, 956819, 62206, 959983, 59734, 960142, 56505, 961208, 55665, 961481, 54154, 961709, 52748, 961763, 51007, 962964, 50477, 963237, 49634, 963283, 49514, 963717, 49282, 963909, 47051, 966406, 44747, 967695, 42980, 969511, 42876, 972473, 40705, 972864, 40291, 973875, 40244, 973933, 40109, 974138, 38718, 974718, 36069, 974799, 35553, 976149, 34178, 978171, 34021, 978646, 33230, 981761, 29580, 981908, 28629, 982333, 28081, 982597, 27373, 983262, 27017, 983727, 24348, 985674, 24241, 987026, 22739, 987397, 22361, 988598, 20162, 989344, 18605, 989594, 17902, 989695, 14012, 990119, 13454, 990177, 8891, 990614, 7689, 992345, 6953, 992803, 6148, 994550, 3779, 994923, 2759, 996232]\n"
     ]
    }
   ],
   "source": [
    "haystack_list = [random.randint(0,1000000) for _ in range(1000)]\n",
    "haystack_set = set(haystack_list)\n",
    "sorted_haystack = sorted(haystack_list)\n",
    "new_haystack = []\n",
    "print(sorted_haystack[len(sorted_haystack)//2::-1])\n",
    "for a, b in zip(sorted_haystack[len(sorted_haystack)//2::-1], sorted_haystack[len(sorted_haystack)//2 + 1:]):\n",
    "    new_haystack.append(a)\n",
    "    new_haystack.append(b)\n",
    "print(new_haystack)\n",
    "haystack_tree = Tree(new_haystack)"
   ]
  },
  {
   "cell_type": "code",
   "execution_count": 31,
   "id": "4774c554-b765-4199-85de-28017d708623",
   "metadata": {},
   "outputs": [
    {
     "data": {
      "text/plain": [
       "510528 (510269 (509991 (509503 (507278 (505718 (505041 (503994 (503819 (501760 (500652 (497535 (497200 (495544 (495420 (493617 (491747 (491471 (491254 (491002 (489859 (488564 (488126 (487087 (486783 (484477 (483945 (482208 (481582 (481466 (480315 (479287 (477933 (477785 (476925 (476707 (476157 (472015 (471931 (470159 (469787 (468362 (462358 (461155 (460387 (460002 (457686 (456486 (456027 (454667 (453932 (453690 (453198 (451356 (450402 (449534 (447750 (445483 (445429 (445036 (443885 (441619 (441291 (441068 (439092 (439086 (436860 (435711 (435514 (435296 (434912 (434255 (434157 (434067 (433264 (433087 (432237 (428850 (427436 (426724 (425958 (425856 (424578 (424262 (423743 (423119 (422988 (422616 (422576 (420224 (419865 (416915 (416768 (415355 (411147 (410866 (409529 (408728 (407244 (406533 (405849 (403780 (403321 (401762 (397272 (396314 (395864 (392937 (390551 (390418 (389366 (389160 (388522 (388432 (388206 (387111 (384617 (383961 (382017 (379051 (377167 (375268 (373915 (372863 (372033 (371360 (371181 (371043 (370807 (370558 (370390 (369221 (368990 (367602 (367347 (366466 (365206 (362273 (359882 (359588 (359230 (358865 (357150 (356988 (356635 (356154 (356078 (355818 (355368 (355206 (353895 (352695 (351292 (349599 (348008 (347329 (347165 (346930 (346598 (345748 (344199 (338906 (337429 (336652 (336559 (334855 (333422 (332220 (332074 (331736 (330863 (330523 (329375 (328322 (325936 (324653 (324058 (323619 (322840 (320326 (319404 (319059 (317034 (316412 (316187 (314875 (312282 (311914 (310971 (308916 (308668 (304938 (304798 (302926 (302626 (299707 (299413 (298501 (298386 (297298 (297203 (294593 (294369 (293721 (293684 (290983 (289423 (287294 (286329 (286040 (284479 (284399 (283771 (281991 (281673 (281409 (281217 (281040 (279339 (278417 (277929 (277349 (277232 (274599 (273250 (272891 (271922 (270896 (270029 (269150 (268848 (267958 (267030 (266899 (266834 (266211 (264459 (264341 (262582 (261701 (260053 (257895 (257631 (257241 (256809 (256730 (256599 (256183 (255782 (255304 (254933 (254797 (252988 (252797 (252642 (252322 (251329 (250006 (245809 (245533 (244818 (244812 (244331 (242615 (242396 (242058 (241838 (240786 (240771 (239708 (239689 (238068 (237853 (236464 (236461 (234593 (233783 (233164 (232441 (232220 (231932 (231368 (229859 (229615 (229357 (226438 (226190 (225718 (225067 (224870 (224505 (222867 (221301 (220916 (220036 (218370 (216604 (215765 (215468 (215286 (213642 (213011 (212949 (212396 (208883 (208578 (208355 (205937 (205560 (204740 (202934 (202423 (200348 (200222 (199445 (197642 (197215 (193001 (192624 (190569 (190221 (189376 (189373 (188598 (188463 (185840 (185346 (180061 (180008 (179387 (179083 (176443 (176381 (175684 (174288 (170852 (169592 (169029 (168946 (167821 (165969 (164437 (162579 (160206 (156898 (155883 (155258 (153225 (152799 (152742 (151567 (151233 (150802 (150675 (150366 (150245 (149625 (142842 (142776 (142775 (142713 (139568 (139286 (139226 (139039 (138775 (138421 (136014 (135973 (134538 (132264 (132098 (130569 (130383 (130278 (127923 (127683 (127637 (127417 (124671 (123638 (122705 (122301 (121602 (120670 (120395 (119494 (118368 (117316 (113697 (112579 (111125 (111061 (110816 (108913 (108827 (108641 (104612 (103211 (103054 (101371 (100188 (98948 (97669 (96390 (94186 (93919 (93356 (92954 (90812 (90638 (89885 (89123 (88910 (88512 (88502 (87188 (86860 (86669 (85969 (84542 (83935 (83119 (82979 (82766 (81677 (81622 (81304 (81124 (80920 (80823 (77378 (77374 (75597 (75300 (75164 (74689 (73939 (72831 (71963 (71005 (69913 (69107 (68498 (68495 (67072 (66723 (66160 (65715 (65223 (64732 (63916 (63299 (62826 (62206 (59734 (56505 (55665 (54154 (52748 (51007 (50477 (49634 (49514 (49282 (47051 (44747 (42980 (42876 (40705 (40291 (40244 (40109 (38718 (36069 (35553 (34178 (34021 (33230 (29580 (28629 (28081 (27373 (27017 (24348 (24241 (22739 (22361 (20162 (18605 (17902 (14012 (13454 (8891 (7689 (6953 (6148 (3779 (2759, None), None), None), None), None), None), None), None), None), None), None), None), None), None), None), None), None), None), None), None), None), None), None), None), None), None), None), None), None), None), None), None), None), None), None), None), None), None), None), None), None), None), None), None), None), None), None), None), None), None), None), None), None), None), None), None), None), None), None), None), None), None), None), None), None), None), None), None), None), None), None), None), None), None), None), None), None), None), None), None), None), None), None), None), None), None), None), None), None), None), None), None), None), None), None), None), None), None), None), None), None), None), None), None), None), None), None), None), None), None), None), None), None), None), None), None), None), None), None), None), None), None), None), None), None), None), None), None), None), None), None), None), None), None), None), None), None), None), None), None), None), None), None), None), None), None), None), None), None), None), None), None), None), None), None), None), None), None), None), None), None), None), None), None), None), None), None), None), None), None), None), None), None), None), None), None), None), None), None), None), None), None), None), None), None), None), None), None), None), None), None), None), None), None), None), None), None), None), None), None), None), None), None), None), None), None), None), None), None), None), None), None), None), None), None), None), None), None), None), None), None), None), None), None), None), None), None), None), None), None), None), None), None), None), None), None), None), None), None), None), None), None), None), None), None), None), None), None), None), None), None), None), None), None), None), None), None), None), None), None), None), None), None), None), None), None), None), None), None), None), None), None), None), None), None), None), None), None), None), None), None), None), None), None), None), None), None), None), None), None), None), None), None), None), None), None), None), None), None), None), None), None), None), None), None), None), None), None), None), None), None), None), None), None), None), None), None), None), None), None), None), None), None), None), None), None), None), None), None), None), None), None), None), None), None), None), None), None), None), None), None), None), None), None), None), None), None), None), None), None), None), None), None), None), None), None), None), None), None), None), None), None), None), None), None), None), None), None), None), None), None), None), None), None), None), None), None), None), None), None), None), None), None), None), None), None), None), None), None), None), None), None), None), None), None), None), None), None), None), None), None), None), None), None), None), None), None), None), None), None), None), None), None), None), None), None), None), None), None), None), None), None), None), None), None), None), None), None), None), None), None), None), None), None), None), None), None), None), None), None), None), None), None), None), None), None), None), None), None), None), None), None), None), None), None), None), None), None), None), None), None), None), None), None), None), None), None), None), None), None), None), None), None), None), None), None), None), None), None), None), None), None), None), None), None), None), None), None), None), None), None), None), None), None), None), None), None), 512465 (None, 512721 (None, 513251 (None, 513816 (None, 515180 (None, 515579 (None, 517073 (None, 517210 (None, 517608 (None, 518740 (None, 521582 (None, 524330 (None, 524824 (None, 525982 (None, 526645 (None, 526909 (None, 529004 (None, 530228 (None, 530562 (None, 530666 (None, 531683 (None, 532007 (None, 532164 (None, 532691 (None, 533584 (None, 534667 (None, 534805 (None, 536037 (None, 537762 (None, 537810 (None, 540619 (None, 541197 (None, 542013 (None, 544190 (None, 544220 (None, 544612 (None, 547016 (None, 547018 (None, 548193 (None, 548270 (None, 549313 (None, 550440 (None, 550563 (None, 550861 (None, 551859 (None, 553008 (None, 553573 (None, 556174 (None, 556217 (None, 556345 (None, 557170 (None, 558846 (None, 559693 (None, 565422 (None, 566738 (None, 566842 (None, 567545 (None, 567915 (None, 568451 (None, 569121 (None, 571168 (None, 572139 (None, 572174 (None, 573287 (None, 574721 (None, 575562 (None, 577503 (None, 578098 (None, 578142 (None, 579350 (None, 581833 (None, 584900 (None, 585470 (None, 585690 (None, 587874 (None, 590169 (None, 590708 (None, 592004 (None, 592099 (None, 592891 (None, 594657 (None, 597859 (None, 597915 (None, 598580 (None, 599345 (None, 600635 (None, 602055 (None, 602711 (None, 602791 (None, 605496 (None, 605653 (None, 605780 (None, 606134 (None, 607095 (None, 607431 (None, 607465 (None, 607480 (None, 609548 (None, 610687 (None, 612550 (None, 612772 (None, 614115 (None, 617809 (None, 620013 (None, 620323 (None, 620639 (None, 620836 (None, 622087 (None, 622295 (None, 623649 (None, 625729 (None, 626284 (None, 626713 (None, 626787 (None, 626836 (None, 627986 (None, 628854 (None, 629365 (None, 631917 (None, 632123 (None, 632305 (None, 635066 (None, 636267 (None, 639727 (None, 639873 (None, 640213 (None, 640584 (None, 641143 (None, 641305 (None, 642364 (None, 643428 (None, 643640 (None, 643817 (None, 645178 (None, 646330 (None, 647584 (None, 647989 (None, 648132 (None, 648885 (None, 650758 (None, 652000 (None, 652976 (None, 654257 (None, 654438 (None, 654686 (None, 654759 (None, 657766 (None, 660469 (None, 660638 (None, 662370 (None, 663005 (None, 663497 (None, 663895 (None, 667799 (None, 668392 (None, 669089 (None, 669404 (None, 670091 (None, 670601 (None, 670882 (None, 672403 (None, 672789 (None, 674010 (None, 674653 (None, 675742 (None, 676209 (None, 676748 (None, 679023 (None, 679612 (None, 682296 (None, 684583 (None, 686220 (None, 686792 (None, 686911 (None, 686948 (None, 688190 (None, 689836 (None, 692220 (None, 693722 (None, 694750 (None, 695263 (None, 696908 (None, 697227 (None, 697480 (None, 699264 (None, 700107 (None, 700342 (None, 703165 (None, 704129 (None, 706335 (None, 706721 (None, 707502 (None, 709773 (None, 709916 (None, 710951 (None, 711469 (None, 711793 (None, 711869 (None, 711968 (None, 713593 (None, 714902 (None, 715996 (None, 716346 (None, 716884 (None, 717006 (None, 717260 (None, 717266 (None, 718480 (None, 719308 (None, 721468 (None, 722401 (None, 725285 (None, 726086 (None, 726331 (None, 726762 (None, 728186 (None, 728266 (None, 729567 (None, 731584 (None, 733037 (None, 733210 (None, 734038 (None, 734282 (None, 734324 (None, 735252 (None, 735801 (None, 735932 (None, 736489 (None, 736711 (None, 738967 (None, 739844 (None, 740337 (None, 741405 (None, 741911 (None, 743812 (None, 744166 (None, 744659 (None, 745344 (None, 746810 (None, 747886 (None, 748546 (None, 749668 (None, 751189 (None, 751534 (None, 752871 (None, 753039 (None, 753409 (None, 754156 (None, 754615 (None, 756025 (None, 756267 (None, 757576 (None, 759101 (None, 761012 (None, 761699 (None, 762398 (None, 763089 (None, 763276 (None, 765421 (None, 767820 (None, 767868 (None, 774029 (None, 774142 (None, 775549 (None, 778872 (None, 778975 (None, 779258 (None, 780421 (None, 780514 (None, 781586 (None, 782188 (None, 782959 (None, 783010 (None, 783613 (None, 785228 (None, 787981 (None, 790302 (None, 792124 (None, 792193 (None, 793431 (None, 794351 (None, 794748 (None, 795556 (None, 797507 (None, 797744 (None, 798091 (None, 798525 (None, 798533 (None, 798766 (None, 799333 (None, 799954 (None, 800726 (None, 800733 (None, 803257 (None, 804169 (None, 804177 (None, 804502 (None, 804938 (None, 807013 (None, 808739 (None, 810290 (None, 810372 (None, 811220 (None, 811347 (None, 811812 (None, 812254 (None, 814239 (None, 814243 (None, 815180 (None, 818634 (None, 820180 (None, 821481 (None, 821519 (None, 821687 (None, 822181 (None, 824419 (None, 825736 (None, 825865 (None, 827181 (None, 827295 (None, 828056 (None, 829018 (None, 830034 (None, 831847 (None, 831889 (None, 832788 (None, 833062 (None, 835198 (None, 835363 (None, 837304 (None, 838311 (None, 838394 (None, 839788 (None, 841311 (None, 844799 (None, 846441 (None, 848635 (None, 849165 (None, 849514 (None, 850048 (None, 850710 (None, 852786 (None, 854978 (None, 855311 (None, 858203 (None, 858474 (None, 860349 (None, 861072 (None, 861394 (None, 861562 (None, 861805 (None, 863299 (None, 863429 (None, 867432 (None, 868117 (None, 868589 (None, 868986 (None, 870496 (None, 870565 (None, 871544 (None, 876210 (None, 876279 (None, 877718 (None, 879187 (None, 882832 (None, 883391 (None, 883622 (None, 884324 (None, 884596 (None, 885074 (None, 887114 (None, 888791 (None, 891654 (None, 891746 (None, 891897 (None, 892945 (None, 895017 (None, 895653 (None, 897631 (None, 900075 (None, 900608 (None, 902849 (None, 904308 (None, 905154 (None, 905396 (None, 906472 (None, 906833 (None, 907366 (None, 910387 (None, 911227 (None, 911290 (None, 912129 (None, 914425 (None, 915387 (None, 915436 (None, 915773 (None, 916084 (None, 917292 (None, 917497 (None, 920658 (None, 921991 (None, 924552 (None, 925773 (None, 926016 (None, 926524 (None, 926689 (None, 927788 (None, 927965 (None, 928460 (None, 929734 (None, 930904 (None, 932286 (None, 932476 (None, 933058 (None, 934073 (None, 934647 (None, 934804 (None, 934818 (None, 935382 (None, 935386 (None, 935549 (None, 935555 (None, 935849 (None, 935891 (None, 936363 (None, 936766 (None, 936891 (None, 937047 (None, 937208 (None, 940648 (None, 940661 (None, 944691 (None, 944921 (None, 945389 (None, 946052 (None, 946415 (None, 946455 (None, 947304 (None, 947375 (None, 947406 (None, 948896 (None, 949485 (None, 950314 (None, 951075 (None, 951121 (None, 951862 (None, 952176 (None, 952701 (None, 952964 (None, 953414 (None, 953463 (None, 955172 (None, 956575 (None, 956819 (None, 959983 (None, 960142 (None, 961208 (None, 961481 (None, 961709 (None, 961763 (None, 962964 (None, 963237 (None, 963283 (None, 963717 (None, 963909 (None, 966406 (None, 967695 (None, 969511 (None, 972473 (None, 972864 (None, 973875 (None, 973933 (None, 974138 (None, 974718 (None, 974799 (None, 976149 (None, 978171 (None, 978646 (None, 981761 (None, 981908 (None, 982333 (None, 982597 (None, 983262 (None, 983727 (None, 985674 (None, 987026 (None, 987397 (None, 988598 (None, 989344 (None, 989594 (None, 989695 (None, 990119 (None, 990177 (None, 990614 (None, 992345 (None, 992803 (None, 994550 (None, 994923 (None, 996232)))))))))))))))))))))))))))))))))))))))))))))))))))))))))))))))))))))))))))))))))))))))))))))))))))))))))))))))))))))))))))))))))))))))))))))))))))))))))))))))))))))))))))))))))))))))))))))))))))))))))))))))))))))))))))))))))))))))))))))))))))))))))))))))))))))))))))))))))))))))))))))))))))))))))))))))))))))))))))))))))))))))))))))))))))))))))))))))))))))))))))))))))))))))))))))))))))))))))))))))))))))))))))))))))))))))))))))))))))))))))))))))))))))))))))))))))))))))))))))))))))))))))))))))))))"
      ]
     },
     "execution_count": 31,
     "metadata": {},
     "output_type": "execute_result"
    }
   ],
   "source": [
    "haystack_tree._root"
   ]
  },
  {
   "cell_type": "code",
   "execution_count": null,
   "id": "b8ba7880-339f-458c-8cbc-98f5f8bef58c",
   "metadata": {},
   "outputs": [],
   "source": []
  }
 ],
 "metadata": {
  "kernelspec": {
   "display_name": "Python 3 (ipykernel)",
   "language": "python",
   "name": "python3"
  },
  "language_info": {
   "codemirror_mode": {
    "name": "ipython",
    "version": 3
   },
   "file_extension": ".py",
   "mimetype": "text/x-python",
   "name": "python",
   "nbconvert_exporter": "python",
   "pygments_lexer": "ipython3",
   "version": "3.12.7"
  }
 },
 "nbformat": 4,
 "nbformat_minor": 5
}
